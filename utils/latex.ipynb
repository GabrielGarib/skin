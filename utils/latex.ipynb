{
 "cells": [
  {
   "cell_type": "code",
   "execution_count": 1,
   "id": "8415eba4",
   "metadata": {},
   "outputs": [],
   "source": [
    "import pandas as pd"
   ]
  },
  {
   "cell_type": "code",
   "execution_count": 37,
   "id": "cb461794",
   "metadata": {},
   "outputs": [],
   "source": [
    "def df_to_latex(df):\n",
    "    header       = f'\\\\begin{{tabular}}{{{\"c\"*len(df.columns)}}}\\n\\\\toprule\\n'\n",
    "    column_names = f'{\" & \".join(df.columns)}\\\\\\\\\\n\\\\midrule\\n'\n",
    "    data         = '\\\\\\\\\\n'.join([f'{\" & \".join([f\"${str(x)}$\" for x in df.iloc[i]])}' for i in range(len(df))])\n",
    "    table        = f'{header}{column_names}{data}\\\\\\\\\\n\\\\bottomrule\\n\\\\end{{tabular}}'\n",
    "    return table"
   ]
  },
  {
   "cell_type": "code",
   "execution_count": 38,
   "id": "357b1124",
   "metadata": {},
   "outputs": [
    {
     "name": "stdout",
     "output_type": "stream",
     "text": [
      "\\begin{tabular}{cc}\n",
      "\\toprule\n",
      "Column 1 & Column 2\\\\\n",
      "\\midrule\n",
      "$1$ & $4$\\\\\n",
      "$2$ & $5$\\\\\n",
      "$3$ & $6$\\\\\n",
      "\\bottomrule\n",
      "\\end{tabular}\n"
     ]
    }
   ],
   "source": [
    "df = pd.DataFrame({\n",
    "    \"Column 1\": [1, 2, 3],\n",
    "    \"Column 2\": [4, 5, 6]\n",
    "})\n",
    "\n",
    "latex_table = df_to_latex(df)\n",
    "print(latex_table)"
   ]
  }
 ],
 "metadata": {
  "kernelspec": {
   "display_name": "Python 3 (ipykernel)",
   "language": "python",
   "name": "python3"
  },
  "language_info": {
   "codemirror_mode": {
    "name": "ipython",
    "version": 3
   },
   "file_extension": ".py",
   "mimetype": "text/x-python",
   "name": "python",
   "nbconvert_exporter": "python",
   "pygments_lexer": "ipython3",
   "version": "3.9.13"
  }
 },
 "nbformat": 4,
 "nbformat_minor": 5
}
