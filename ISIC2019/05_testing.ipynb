{
 "cells": [
  {
   "cell_type": "markdown",
   "metadata": {
    "id": "6cPRIevMl_fb"
   },
   "source": [
    "# ISIC2019\n",
    "\n"
   ]
  },
  {
   "cell_type": "markdown",
   "metadata": {
    "id": "GI_c_upDmXoH"
   },
   "source": [
    "Libraries"
   ]
  },
  {
   "cell_type": "code",
   "execution_count": 1,
   "metadata": {
    "id": "Yhc3LdzuYghn"
   },
   "outputs": [],
   "source": [
    "import pandas as pd\n",
    "import numpy as np\n",
    "import pickle\n",
    "import os\n",
    "import sys\n",
    "import time\n",
    "import gc\n",
    "import warnings\n",
    "import torch\n",
    "import torch.nn as nn\n",
    "import torch.optim as optim\n",
    "import torchvision.models as models\n",
    "import torchvision.transforms as transforms\n",
    "from torchvision.models.feature_extraction import get_graph_node_names\n",
    "from torchvision.models.feature_extraction import create_feature_extractor\n",
    "import copy\n",
    "import matplotlib.pyplot as plt\n",
    "plt.rcParams['figure.figsize'] = [15, 7]\n",
    "\n",
    "from torch.utils.data import Dataset, DataLoader\n",
    "from PIL import Image\n",
    "from sklearn.metrics import confusion_matrix, accuracy_score, precision_score, recall_score\n",
    "\n",
    "from efficientnet_pytorch import EfficientNet\n",
    "import torchextractor as tx\n",
    "\n",
    "from itertools import chain, combinations\n",
    "\n",
    "def get_combs(l):\n",
    "    return list(chain.from_iterable(combinations(l, r) for r in range(1, len(l)+1)))"
   ]
  },
  {
   "cell_type": "code",
   "execution_count": 2,
   "metadata": {},
   "outputs": [],
   "source": [
    "sys.path.append('..')\n",
    "\n",
    "from utils.train import train\n",
    "from utils.metrics import get_scores, get_metrics\n",
    "from utils.dataset import get_data_loader\n",
    "from utils.models import get_model, BaseMetaModel, MetaModel"
   ]
  },
  {
   "cell_type": "markdown",
   "metadata": {
    "id": "H586hAq5mb1b"
   },
   "source": [
    "# Dataset"
   ]
  },
  {
   "cell_type": "code",
   "execution_count": 3,
   "metadata": {
    "colab": {
     "base_uri": "https://localhost:8080/",
     "height": 299
    },
    "id": "g_dhCTuCZT6r",
    "outputId": "861f1cc4-b605-4625-bbeb-935eb4659edb"
   },
   "outputs": [
    {
     "data": {
      "text/html": [
       "<div>\n",
       "<style scoped>\n",
       "    .dataframe tbody tr th:only-of-type {\n",
       "        vertical-align: middle;\n",
       "    }\n",
       "\n",
       "    .dataframe tbody tr th {\n",
       "        vertical-align: top;\n",
       "    }\n",
       "\n",
       "    .dataframe thead th {\n",
       "        text-align: right;\n",
       "    }\n",
       "</style>\n",
       "<table border=\"1\" class=\"dataframe\">\n",
       "  <thead>\n",
       "    <tr style=\"text-align: right;\">\n",
       "      <th></th>\n",
       "      <th>image</th>\n",
       "      <th>diagnostic</th>\n",
       "      <th>age_approx</th>\n",
       "      <th>female</th>\n",
       "      <th>male</th>\n",
       "      <th>anterior_torso</th>\n",
       "      <th>head_neck</th>\n",
       "      <th>lateral_torso</th>\n",
       "      <th>lower_extremity</th>\n",
       "      <th>oral_genital</th>\n",
       "      <th>palms_soles</th>\n",
       "      <th>posterior_torso</th>\n",
       "      <th>upper_extremity</th>\n",
       "      <th>diagnostic_number</th>\n",
       "      <th>folder</th>\n",
       "    </tr>\n",
       "  </thead>\n",
       "  <tbody>\n",
       "    <tr>\n",
       "      <th>0</th>\n",
       "      <td>ISIC_0000000</td>\n",
       "      <td>NV</td>\n",
       "      <td>55.0</td>\n",
       "      <td>1</td>\n",
       "      <td>0</td>\n",
       "      <td>1</td>\n",
       "      <td>0</td>\n",
       "      <td>0</td>\n",
       "      <td>0</td>\n",
       "      <td>0</td>\n",
       "      <td>0</td>\n",
       "      <td>0</td>\n",
       "      <td>0</td>\n",
       "      <td>5</td>\n",
       "      <td>0</td>\n",
       "    </tr>\n",
       "    <tr>\n",
       "      <th>1</th>\n",
       "      <td>ISIC_0000001</td>\n",
       "      <td>NV</td>\n",
       "      <td>30.0</td>\n",
       "      <td>1</td>\n",
       "      <td>0</td>\n",
       "      <td>1</td>\n",
       "      <td>0</td>\n",
       "      <td>0</td>\n",
       "      <td>0</td>\n",
       "      <td>0</td>\n",
       "      <td>0</td>\n",
       "      <td>0</td>\n",
       "      <td>0</td>\n",
       "      <td>5</td>\n",
       "      <td>1</td>\n",
       "    </tr>\n",
       "    <tr>\n",
       "      <th>2</th>\n",
       "      <td>ISIC_0000002</td>\n",
       "      <td>MEL</td>\n",
       "      <td>60.0</td>\n",
       "      <td>1</td>\n",
       "      <td>0</td>\n",
       "      <td>0</td>\n",
       "      <td>0</td>\n",
       "      <td>0</td>\n",
       "      <td>0</td>\n",
       "      <td>0</td>\n",
       "      <td>0</td>\n",
       "      <td>0</td>\n",
       "      <td>1</td>\n",
       "      <td>4</td>\n",
       "      <td>2</td>\n",
       "    </tr>\n",
       "    <tr>\n",
       "      <th>3</th>\n",
       "      <td>ISIC_0000003</td>\n",
       "      <td>NV</td>\n",
       "      <td>30.0</td>\n",
       "      <td>0</td>\n",
       "      <td>1</td>\n",
       "      <td>0</td>\n",
       "      <td>0</td>\n",
       "      <td>0</td>\n",
       "      <td>0</td>\n",
       "      <td>0</td>\n",
       "      <td>0</td>\n",
       "      <td>0</td>\n",
       "      <td>1</td>\n",
       "      <td>5</td>\n",
       "      <td>3</td>\n",
       "    </tr>\n",
       "    <tr>\n",
       "      <th>4</th>\n",
       "      <td>ISIC_0000004</td>\n",
       "      <td>MEL</td>\n",
       "      <td>80.0</td>\n",
       "      <td>0</td>\n",
       "      <td>1</td>\n",
       "      <td>0</td>\n",
       "      <td>0</td>\n",
       "      <td>0</td>\n",
       "      <td>0</td>\n",
       "      <td>0</td>\n",
       "      <td>0</td>\n",
       "      <td>1</td>\n",
       "      <td>0</td>\n",
       "      <td>4</td>\n",
       "      <td>4</td>\n",
       "    </tr>\n",
       "    <tr>\n",
       "      <th>...</th>\n",
       "      <td>...</td>\n",
       "      <td>...</td>\n",
       "      <td>...</td>\n",
       "      <td>...</td>\n",
       "      <td>...</td>\n",
       "      <td>...</td>\n",
       "      <td>...</td>\n",
       "      <td>...</td>\n",
       "      <td>...</td>\n",
       "      <td>...</td>\n",
       "      <td>...</td>\n",
       "      <td>...</td>\n",
       "      <td>...</td>\n",
       "      <td>...</td>\n",
       "      <td>...</td>\n",
       "    </tr>\n",
       "    <tr>\n",
       "      <th>25326</th>\n",
       "      <td>ISIC_0073247</td>\n",
       "      <td>BCC</td>\n",
       "      <td>85.0</td>\n",
       "      <td>1</td>\n",
       "      <td>0</td>\n",
       "      <td>0</td>\n",
       "      <td>1</td>\n",
       "      <td>0</td>\n",
       "      <td>0</td>\n",
       "      <td>0</td>\n",
       "      <td>0</td>\n",
       "      <td>0</td>\n",
       "      <td>0</td>\n",
       "      <td>1</td>\n",
       "      <td>26</td>\n",
       "    </tr>\n",
       "    <tr>\n",
       "      <th>25327</th>\n",
       "      <td>ISIC_0073248</td>\n",
       "      <td>BKL</td>\n",
       "      <td>65.0</td>\n",
       "      <td>0</td>\n",
       "      <td>1</td>\n",
       "      <td>1</td>\n",
       "      <td>0</td>\n",
       "      <td>0</td>\n",
       "      <td>0</td>\n",
       "      <td>0</td>\n",
       "      <td>0</td>\n",
       "      <td>0</td>\n",
       "      <td>0</td>\n",
       "      <td>2</td>\n",
       "      <td>27</td>\n",
       "    </tr>\n",
       "    <tr>\n",
       "      <th>25328</th>\n",
       "      <td>ISIC_0073249</td>\n",
       "      <td>MEL</td>\n",
       "      <td>70.0</td>\n",
       "      <td>0</td>\n",
       "      <td>1</td>\n",
       "      <td>0</td>\n",
       "      <td>0</td>\n",
       "      <td>0</td>\n",
       "      <td>1</td>\n",
       "      <td>0</td>\n",
       "      <td>0</td>\n",
       "      <td>0</td>\n",
       "      <td>0</td>\n",
       "      <td>4</td>\n",
       "      <td>28</td>\n",
       "    </tr>\n",
       "    <tr>\n",
       "      <th>25329</th>\n",
       "      <td>ISIC_0073251</td>\n",
       "      <td>NV</td>\n",
       "      <td>55.0</td>\n",
       "      <td>1</td>\n",
       "      <td>0</td>\n",
       "      <td>0</td>\n",
       "      <td>0</td>\n",
       "      <td>0</td>\n",
       "      <td>0</td>\n",
       "      <td>0</td>\n",
       "      <td>1</td>\n",
       "      <td>0</td>\n",
       "      <td>0</td>\n",
       "      <td>5</td>\n",
       "      <td>29</td>\n",
       "    </tr>\n",
       "    <tr>\n",
       "      <th>25330</th>\n",
       "      <td>ISIC_0073254</td>\n",
       "      <td>BKL</td>\n",
       "      <td>50.0</td>\n",
       "      <td>0</td>\n",
       "      <td>1</td>\n",
       "      <td>0</td>\n",
       "      <td>0</td>\n",
       "      <td>0</td>\n",
       "      <td>0</td>\n",
       "      <td>0</td>\n",
       "      <td>0</td>\n",
       "      <td>0</td>\n",
       "      <td>1</td>\n",
       "      <td>2</td>\n",
       "      <td>30</td>\n",
       "    </tr>\n",
       "  </tbody>\n",
       "</table>\n",
       "<p>25331 rows × 15 columns</p>\n",
       "</div>"
      ],
      "text/plain": [
       "              image diagnostic  age_approx  female  male  anterior_torso  \\\n",
       "0      ISIC_0000000         NV        55.0       1     0               1   \n",
       "1      ISIC_0000001         NV        30.0       1     0               1   \n",
       "2      ISIC_0000002        MEL        60.0       1     0               0   \n",
       "3      ISIC_0000003         NV        30.0       0     1               0   \n",
       "4      ISIC_0000004        MEL        80.0       0     1               0   \n",
       "...             ...        ...         ...     ...   ...             ...   \n",
       "25326  ISIC_0073247        BCC        85.0       1     0               0   \n",
       "25327  ISIC_0073248        BKL        65.0       0     1               1   \n",
       "25328  ISIC_0073249        MEL        70.0       0     1               0   \n",
       "25329  ISIC_0073251         NV        55.0       1     0               0   \n",
       "25330  ISIC_0073254        BKL        50.0       0     1               0   \n",
       "\n",
       "       head_neck  lateral_torso  lower_extremity  oral_genital  palms_soles  \\\n",
       "0              0              0                0             0            0   \n",
       "1              0              0                0             0            0   \n",
       "2              0              0                0             0            0   \n",
       "3              0              0                0             0            0   \n",
       "4              0              0                0             0            0   \n",
       "...          ...            ...              ...           ...          ...   \n",
       "25326          1              0                0             0            0   \n",
       "25327          0              0                0             0            0   \n",
       "25328          0              0                1             0            0   \n",
       "25329          0              0                0             0            1   \n",
       "25330          0              0                0             0            0   \n",
       "\n",
       "       posterior_torso  upper_extremity  diagnostic_number  folder  \n",
       "0                    0                0                  5       0  \n",
       "1                    0                0                  5       1  \n",
       "2                    0                1                  4       2  \n",
       "3                    0                1                  5       3  \n",
       "4                    1                0                  4       4  \n",
       "...                ...              ...                ...     ...  \n",
       "25326                0                0                  1      26  \n",
       "25327                0                0                  2      27  \n",
       "25328                0                0                  4      28  \n",
       "25329                0                0                  5      29  \n",
       "25330                0                1                  2      30  \n",
       "\n",
       "[25331 rows x 15 columns]"
      ]
     },
     "execution_count": 3,
     "metadata": {},
     "output_type": "execute_result"
    }
   ],
   "source": [
    "df = pd.read_csv('train_metadata.csv')\n",
    "df"
   ]
  },
  {
   "cell_type": "code",
   "execution_count": 4,
   "metadata": {
    "colab": {
     "base_uri": "https://localhost:8080/"
    },
    "id": "4H_ZuBDtm-z9",
    "outputId": "8a79b0ab-82ce-4792-f021-b0e9e6155ad6"
   },
   "outputs": [],
   "source": [
    "open_file = open('train_idcs', \"rb\")\n",
    "train_folds = pickle.load(open_file)\n",
    "open_file.close()\n",
    "\n",
    "open_file = open('val_idcs', \"rb\")\n",
    "val_folds = pickle.load(open_file)\n",
    "open_file.close()\n",
    "\n",
    "open_file = open('test_idcs', \"rb\")\n",
    "test_idcs = pickle.load(open_file)\n",
    "open_file.close()"
   ]
  },
  {
   "cell_type": "markdown",
   "metadata": {},
   "source": [
    "# Testing"
   ]
  },
  {
   "cell_type": "code",
   "execution_count": 5,
   "metadata": {},
   "outputs": [
    {
     "data": {
      "text/plain": [
       "17"
      ]
     },
     "execution_count": 5,
     "metadata": {},
     "output_type": "execute_result"
    }
   ],
   "source": [
    "model_names = ['resnet18', 'resnet34', 'resnet50', 'resnet101', 'resnet152', 'effnetb0', 'effnetb1',\n",
    "               'effnetb2', 'effnetb3', 'effnetb4', 'effnetb5', 'resnext50', 'resnext101', 'vgg11', 'vgg13', \n",
    "               'vgg16', 'vit_b_32']\n",
    "\n",
    "#model_names = ['resnet18', 'resnet50', 'effnetb3', 'resnext50', 'vgg11', 'vit_b_32']\n",
    "len(model_names)"
   ]
  },
  {
   "cell_type": "code",
   "execution_count": 6,
   "metadata": {},
   "outputs": [],
   "source": [
    "fusion_methods   = ['no_meta', 'concat', 'metanet', 'metablock']\n",
    "#fusion_methods   = ['metablock']"
   ]
  },
  {
   "cell_type": "code",
   "execution_count": 7,
   "metadata": {},
   "outputs": [],
   "source": [
    "data_dir  = 'imgs/ISIC_2019_Training_Input'\n",
    "age_cols = ['age_approx']\n",
    "sex_cols = ['female', 'male']\n",
    "loc_cols = ['anterior_torso', 'head_neck', \"lateral_torso\", 'lower_extremity', 'oral_genital',\n",
    "            'palms_soles', 'posterior_torso',  'upper_extremity']\n",
    "\n",
    "metadata_cols = age_cols + sex_cols + loc_cols\n",
    "\n",
    "batch_size    = 32\n",
    "num_workers   = 16\n",
    "input_size    = 224\n",
    "\n",
    "train_transform = transforms.Compose([transforms.RandomResizedCrop(input_size),\n",
    "                                transforms.RandomHorizontalFlip(),\n",
    "                                transforms.ToTensor(),\n",
    "                                transforms.Normalize([0.485, 0.456, 0.406], [0.229, 0.224, 0.225])])\n",
    "\n",
    "val_transform   = transforms.Compose([transforms.Resize((input_size, input_size)),\n",
    "                                transforms.ToTensor(),\n",
    "                                transforms.Normalize([0.485, 0.456, 0.406], [0.229, 0.224, 0.225])])"
   ]
  },
  {
   "cell_type": "code",
   "execution_count": 8,
   "metadata": {},
   "outputs": [
    {
     "name": "stdout",
     "output_type": "stream",
     "text": [
      "cuda\n"
     ]
    }
   ],
   "source": [
    "fold            = 0\n",
    "n_classes       = 8\n",
    "n_reducer_block = 256\n",
    "\n",
    "device    = torch.device('cuda' if torch.cuda.is_available() else 'cpu')\n",
    "print(device)\n",
    "\n",
    "\n",
    "saved_models_folder      = 'saved_models'\n",
    "saved_scores_folder      = 'saved_scores'\n",
    "saved_base_models_folder = 'saved_basemodels'\n",
    "saved_base_scores_folder = 'saved_basescores'"
   ]
  },
  {
   "cell_type": "code",
   "execution_count": 9,
   "metadata": {},
   "outputs": [
    {
     "name": "stdout",
     "output_type": "stream",
     "text": [
      "*******************************************************************************\n",
      "RESNET18 NO_META\n",
      "*******************************************************************************\n",
      "\n"
     ]
    },
    {
     "name": "stderr",
     "output_type": "stream",
     "text": [
      "/home/gabriel/skin/ISIC2019/../utils/metrics.py:47: UserWarning: An output with one or more elements was resized since it had shape [4968, 6], which does not match the required output shape [4968, 8]. This behavior is deprecated, and in a future PyTorch release outputs will not be resized unless they have zero elements. You can explicitly reuse an out tensor t by resizing it, inplace, to zero elements with t.resize_(0). (Triggered internally at ../aten/src/ATen/native/Resize.cpp:17.)\n",
      "  torch.cat(prob_list, out=y_prob)\n"
     ]
    },
    {
     "name": "stdout",
     "output_type": "stream",
     "text": [
      "*******************************************************************************\n",
      "RESNET18 CONCAT\n",
      "*******************************************************************************\n",
      "\n"
     ]
    },
    {
     "name": "stderr",
     "output_type": "stream",
     "text": [
      "/home/gabriel/skin/ISIC2019/../utils/metrics.py:47: UserWarning: An output with one or more elements was resized since it had shape [4968, 6], which does not match the required output shape [4968, 8]. This behavior is deprecated, and in a future PyTorch release outputs will not be resized unless they have zero elements. You can explicitly reuse an out tensor t by resizing it, inplace, to zero elements with t.resize_(0). (Triggered internally at ../aten/src/ATen/native/Resize.cpp:17.)\n",
      "  torch.cat(prob_list, out=y_prob)\n"
     ]
    },
    {
     "name": "stdout",
     "output_type": "stream",
     "text": [
      "*******************************************************************************\n",
      "RESNET18 METANET\n",
      "*******************************************************************************\n",
      "\n"
     ]
    },
    {
     "name": "stderr",
     "output_type": "stream",
     "text": [
      "/home/gabriel/skin/ISIC2019/../utils/metrics.py:47: UserWarning: An output with one or more elements was resized since it had shape [4968, 6], which does not match the required output shape [4968, 8]. This behavior is deprecated, and in a future PyTorch release outputs will not be resized unless they have zero elements. You can explicitly reuse an out tensor t by resizing it, inplace, to zero elements with t.resize_(0). (Triggered internally at ../aten/src/ATen/native/Resize.cpp:17.)\n",
      "  torch.cat(prob_list, out=y_prob)\n"
     ]
    },
    {
     "name": "stdout",
     "output_type": "stream",
     "text": [
      "*******************************************************************************\n",
      "RESNET18 METABLOCK\n",
      "*******************************************************************************\n",
      "\n"
     ]
    },
    {
     "name": "stderr",
     "output_type": "stream",
     "text": [
      "/home/gabriel/skin/ISIC2019/../utils/metrics.py:47: UserWarning: An output with one or more elements was resized since it had shape [4968, 6], which does not match the required output shape [4968, 8]. This behavior is deprecated, and in a future PyTorch release outputs will not be resized unless they have zero elements. You can explicitly reuse an out tensor t by resizing it, inplace, to zero elements with t.resize_(0). (Triggered internally at ../aten/src/ATen/native/Resize.cpp:17.)\n",
      "  torch.cat(prob_list, out=y_prob)\n"
     ]
    },
    {
     "name": "stdout",
     "output_type": "stream",
     "text": [
      "*******************************************************************************\n",
      "RESNET34 NO_META\n",
      "*******************************************************************************\n",
      "\n"
     ]
    },
    {
     "name": "stderr",
     "output_type": "stream",
     "text": [
      "/home/gabriel/skin/ISIC2019/../utils/metrics.py:47: UserWarning: An output with one or more elements was resized since it had shape [4968, 6], which does not match the required output shape [4968, 8]. This behavior is deprecated, and in a future PyTorch release outputs will not be resized unless they have zero elements. You can explicitly reuse an out tensor t by resizing it, inplace, to zero elements with t.resize_(0). (Triggered internally at ../aten/src/ATen/native/Resize.cpp:17.)\n",
      "  torch.cat(prob_list, out=y_prob)\n"
     ]
    },
    {
     "name": "stdout",
     "output_type": "stream",
     "text": [
      "*******************************************************************************\n",
      "RESNET34 CONCAT\n",
      "*******************************************************************************\n",
      "\n"
     ]
    },
    {
     "name": "stderr",
     "output_type": "stream",
     "text": [
      "/home/gabriel/skin/ISIC2019/../utils/metrics.py:47: UserWarning: An output with one or more elements was resized since it had shape [4968, 6], which does not match the required output shape [4968, 8]. This behavior is deprecated, and in a future PyTorch release outputs will not be resized unless they have zero elements. You can explicitly reuse an out tensor t by resizing it, inplace, to zero elements with t.resize_(0). (Triggered internally at ../aten/src/ATen/native/Resize.cpp:17.)\n",
      "  torch.cat(prob_list, out=y_prob)\n"
     ]
    },
    {
     "name": "stdout",
     "output_type": "stream",
     "text": [
      "*******************************************************************************\n",
      "RESNET34 METANET\n",
      "*******************************************************************************\n",
      "\n"
     ]
    },
    {
     "name": "stderr",
     "output_type": "stream",
     "text": [
      "/home/gabriel/skin/ISIC2019/../utils/metrics.py:47: UserWarning: An output with one or more elements was resized since it had shape [4968, 6], which does not match the required output shape [4968, 8]. This behavior is deprecated, and in a future PyTorch release outputs will not be resized unless they have zero elements. You can explicitly reuse an out tensor t by resizing it, inplace, to zero elements with t.resize_(0). (Triggered internally at ../aten/src/ATen/native/Resize.cpp:17.)\n",
      "  torch.cat(prob_list, out=y_prob)\n"
     ]
    },
    {
     "name": "stdout",
     "output_type": "stream",
     "text": [
      "*******************************************************************************\n",
      "RESNET34 METABLOCK\n",
      "*******************************************************************************\n",
      "\n"
     ]
    },
    {
     "name": "stderr",
     "output_type": "stream",
     "text": [
      "/home/gabriel/skin/ISIC2019/../utils/metrics.py:47: UserWarning: An output with one or more elements was resized since it had shape [4968, 6], which does not match the required output shape [4968, 8]. This behavior is deprecated, and in a future PyTorch release outputs will not be resized unless they have zero elements. You can explicitly reuse an out tensor t by resizing it, inplace, to zero elements with t.resize_(0). (Triggered internally at ../aten/src/ATen/native/Resize.cpp:17.)\n",
      "  torch.cat(prob_list, out=y_prob)\n"
     ]
    },
    {
     "name": "stdout",
     "output_type": "stream",
     "text": [
      "*******************************************************************************\n",
      "RESNET50 NO_META\n",
      "*******************************************************************************\n",
      "\n"
     ]
    },
    {
     "name": "stderr",
     "output_type": "stream",
     "text": [
      "/home/gabriel/skin/ISIC2019/../utils/metrics.py:47: UserWarning: An output with one or more elements was resized since it had shape [4968, 6], which does not match the required output shape [4968, 8]. This behavior is deprecated, and in a future PyTorch release outputs will not be resized unless they have zero elements. You can explicitly reuse an out tensor t by resizing it, inplace, to zero elements with t.resize_(0). (Triggered internally at ../aten/src/ATen/native/Resize.cpp:17.)\n",
      "  torch.cat(prob_list, out=y_prob)\n"
     ]
    },
    {
     "name": "stdout",
     "output_type": "stream",
     "text": [
      "*******************************************************************************\n",
      "RESNET50 CONCAT\n",
      "*******************************************************************************\n",
      "\n"
     ]
    },
    {
     "name": "stderr",
     "output_type": "stream",
     "text": [
      "/home/gabriel/skin/ISIC2019/../utils/metrics.py:47: UserWarning: An output with one or more elements was resized since it had shape [4968, 6], which does not match the required output shape [4968, 8]. This behavior is deprecated, and in a future PyTorch release outputs will not be resized unless they have zero elements. You can explicitly reuse an out tensor t by resizing it, inplace, to zero elements with t.resize_(0). (Triggered internally at ../aten/src/ATen/native/Resize.cpp:17.)\n",
      "  torch.cat(prob_list, out=y_prob)\n"
     ]
    },
    {
     "name": "stdout",
     "output_type": "stream",
     "text": [
      "*******************************************************************************\n",
      "RESNET50 METANET\n",
      "*******************************************************************************\n",
      "\n"
     ]
    },
    {
     "name": "stderr",
     "output_type": "stream",
     "text": [
      "/home/gabriel/skin/ISIC2019/../utils/metrics.py:47: UserWarning: An output with one or more elements was resized since it had shape [4968, 6], which does not match the required output shape [4968, 8]. This behavior is deprecated, and in a future PyTorch release outputs will not be resized unless they have zero elements. You can explicitly reuse an out tensor t by resizing it, inplace, to zero elements with t.resize_(0). (Triggered internally at ../aten/src/ATen/native/Resize.cpp:17.)\n",
      "  torch.cat(prob_list, out=y_prob)\n"
     ]
    },
    {
     "name": "stdout",
     "output_type": "stream",
     "text": [
      "*******************************************************************************\n",
      "RESNET50 METABLOCK\n",
      "*******************************************************************************\n",
      "\n"
     ]
    },
    {
     "name": "stderr",
     "output_type": "stream",
     "text": [
      "/home/gabriel/skin/ISIC2019/../utils/metrics.py:47: UserWarning: An output with one or more elements was resized since it had shape [4968, 6], which does not match the required output shape [4968, 8]. This behavior is deprecated, and in a future PyTorch release outputs will not be resized unless they have zero elements. You can explicitly reuse an out tensor t by resizing it, inplace, to zero elements with t.resize_(0). (Triggered internally at ../aten/src/ATen/native/Resize.cpp:17.)\n",
      "  torch.cat(prob_list, out=y_prob)\n"
     ]
    },
    {
     "name": "stdout",
     "output_type": "stream",
     "text": [
      "*******************************************************************************\n",
      "RESNET101 NO_META\n",
      "*******************************************************************************\n",
      "\n"
     ]
    },
    {
     "name": "stderr",
     "output_type": "stream",
     "text": [
      "/home/gabriel/skin/ISIC2019/../utils/metrics.py:47: UserWarning: An output with one or more elements was resized since it had shape [4968, 6], which does not match the required output shape [4968, 8]. This behavior is deprecated, and in a future PyTorch release outputs will not be resized unless they have zero elements. You can explicitly reuse an out tensor t by resizing it, inplace, to zero elements with t.resize_(0). (Triggered internally at ../aten/src/ATen/native/Resize.cpp:17.)\n",
      "  torch.cat(prob_list, out=y_prob)\n"
     ]
    },
    {
     "name": "stdout",
     "output_type": "stream",
     "text": [
      "*******************************************************************************\n",
      "RESNET101 CONCAT\n",
      "*******************************************************************************\n",
      "\n"
     ]
    },
    {
     "name": "stderr",
     "output_type": "stream",
     "text": [
      "/home/gabriel/skin/ISIC2019/../utils/metrics.py:47: UserWarning: An output with one or more elements was resized since it had shape [4968, 6], which does not match the required output shape [4968, 8]. This behavior is deprecated, and in a future PyTorch release outputs will not be resized unless they have zero elements. You can explicitly reuse an out tensor t by resizing it, inplace, to zero elements with t.resize_(0). (Triggered internally at ../aten/src/ATen/native/Resize.cpp:17.)\n",
      "  torch.cat(prob_list, out=y_prob)\n"
     ]
    },
    {
     "name": "stdout",
     "output_type": "stream",
     "text": [
      "*******************************************************************************\n",
      "RESNET101 METANET\n",
      "*******************************************************************************\n",
      "\n"
     ]
    },
    {
     "name": "stderr",
     "output_type": "stream",
     "text": [
      "/home/gabriel/skin/ISIC2019/../utils/metrics.py:47: UserWarning: An output with one or more elements was resized since it had shape [4968, 6], which does not match the required output shape [4968, 8]. This behavior is deprecated, and in a future PyTorch release outputs will not be resized unless they have zero elements. You can explicitly reuse an out tensor t by resizing it, inplace, to zero elements with t.resize_(0). (Triggered internally at ../aten/src/ATen/native/Resize.cpp:17.)\n",
      "  torch.cat(prob_list, out=y_prob)\n"
     ]
    },
    {
     "name": "stdout",
     "output_type": "stream",
     "text": [
      "*******************************************************************************\n",
      "RESNET101 METABLOCK\n",
      "*******************************************************************************\n",
      "\n"
     ]
    },
    {
     "name": "stderr",
     "output_type": "stream",
     "text": [
      "/home/gabriel/skin/ISIC2019/../utils/metrics.py:47: UserWarning: An output with one or more elements was resized since it had shape [4968, 6], which does not match the required output shape [4968, 8]. This behavior is deprecated, and in a future PyTorch release outputs will not be resized unless they have zero elements. You can explicitly reuse an out tensor t by resizing it, inplace, to zero elements with t.resize_(0). (Triggered internally at ../aten/src/ATen/native/Resize.cpp:17.)\n",
      "  torch.cat(prob_list, out=y_prob)\n"
     ]
    },
    {
     "name": "stdout",
     "output_type": "stream",
     "text": [
      "*******************************************************************************\n",
      "RESNET152 NO_META\n",
      "*******************************************************************************\n",
      "\n"
     ]
    },
    {
     "name": "stderr",
     "output_type": "stream",
     "text": [
      "/home/gabriel/skin/ISIC2019/../utils/metrics.py:47: UserWarning: An output with one or more elements was resized since it had shape [4968, 6], which does not match the required output shape [4968, 8]. This behavior is deprecated, and in a future PyTorch release outputs will not be resized unless they have zero elements. You can explicitly reuse an out tensor t by resizing it, inplace, to zero elements with t.resize_(0). (Triggered internally at ../aten/src/ATen/native/Resize.cpp:17.)\n",
      "  torch.cat(prob_list, out=y_prob)\n"
     ]
    },
    {
     "name": "stdout",
     "output_type": "stream",
     "text": [
      "*******************************************************************************\n",
      "RESNET152 CONCAT\n",
      "*******************************************************************************\n",
      "\n"
     ]
    },
    {
     "name": "stderr",
     "output_type": "stream",
     "text": [
      "/home/gabriel/skin/ISIC2019/../utils/metrics.py:47: UserWarning: An output with one or more elements was resized since it had shape [4968, 6], which does not match the required output shape [4968, 8]. This behavior is deprecated, and in a future PyTorch release outputs will not be resized unless they have zero elements. You can explicitly reuse an out tensor t by resizing it, inplace, to zero elements with t.resize_(0). (Triggered internally at ../aten/src/ATen/native/Resize.cpp:17.)\n",
      "  torch.cat(prob_list, out=y_prob)\n"
     ]
    },
    {
     "name": "stdout",
     "output_type": "stream",
     "text": [
      "*******************************************************************************\n",
      "RESNET152 METANET\n",
      "*******************************************************************************\n",
      "\n"
     ]
    },
    {
     "name": "stderr",
     "output_type": "stream",
     "text": [
      "/home/gabriel/skin/ISIC2019/../utils/metrics.py:47: UserWarning: An output with one or more elements was resized since it had shape [4968, 6], which does not match the required output shape [4968, 8]. This behavior is deprecated, and in a future PyTorch release outputs will not be resized unless they have zero elements. You can explicitly reuse an out tensor t by resizing it, inplace, to zero elements with t.resize_(0). (Triggered internally at ../aten/src/ATen/native/Resize.cpp:17.)\n",
      "  torch.cat(prob_list, out=y_prob)\n"
     ]
    },
    {
     "name": "stdout",
     "output_type": "stream",
     "text": [
      "*******************************************************************************\n",
      "RESNET152 METABLOCK\n",
      "*******************************************************************************\n",
      "\n"
     ]
    },
    {
     "name": "stderr",
     "output_type": "stream",
     "text": [
      "/home/gabriel/skin/ISIC2019/../utils/metrics.py:47: UserWarning: An output with one or more elements was resized since it had shape [4968, 6], which does not match the required output shape [4968, 8]. This behavior is deprecated, and in a future PyTorch release outputs will not be resized unless they have zero elements. You can explicitly reuse an out tensor t by resizing it, inplace, to zero elements with t.resize_(0). (Triggered internally at ../aten/src/ATen/native/Resize.cpp:17.)\n",
      "  torch.cat(prob_list, out=y_prob)\n"
     ]
    },
    {
     "name": "stdout",
     "output_type": "stream",
     "text": [
      "Loaded pretrained weights for efficientnet-b0\n",
      "*******************************************************************************\n",
      "EFFNETB0 NO_META\n",
      "*******************************************************************************\n",
      "\n",
      "Loaded pretrained weights for efficientnet-b0\n"
     ]
    },
    {
     "name": "stderr",
     "output_type": "stream",
     "text": [
      "/home/gabriel/skin/ISIC2019/../utils/metrics.py:47: UserWarning: An output with one or more elements was resized since it had shape [4968, 6], which does not match the required output shape [4968, 8]. This behavior is deprecated, and in a future PyTorch release outputs will not be resized unless they have zero elements. You can explicitly reuse an out tensor t by resizing it, inplace, to zero elements with t.resize_(0). (Triggered internally at ../aten/src/ATen/native/Resize.cpp:17.)\n",
      "  torch.cat(prob_list, out=y_prob)\n"
     ]
    },
    {
     "name": "stdout",
     "output_type": "stream",
     "text": [
      "*******************************************************************************\n",
      "EFFNETB0 CONCAT\n",
      "*******************************************************************************\n",
      "\n"
     ]
    },
    {
     "name": "stderr",
     "output_type": "stream",
     "text": [
      "/home/gabriel/skin/ISIC2019/../utils/metrics.py:47: UserWarning: An output with one or more elements was resized since it had shape [4968, 6], which does not match the required output shape [4968, 8]. This behavior is deprecated, and in a future PyTorch release outputs will not be resized unless they have zero elements. You can explicitly reuse an out tensor t by resizing it, inplace, to zero elements with t.resize_(0). (Triggered internally at ../aten/src/ATen/native/Resize.cpp:17.)\n",
      "  torch.cat(prob_list, out=y_prob)\n"
     ]
    },
    {
     "name": "stdout",
     "output_type": "stream",
     "text": [
      "*******************************************************************************\n",
      "EFFNETB0 METANET\n",
      "*******************************************************************************\n",
      "\n"
     ]
    },
    {
     "name": "stderr",
     "output_type": "stream",
     "text": [
      "/home/gabriel/skin/ISIC2019/../utils/metrics.py:47: UserWarning: An output with one or more elements was resized since it had shape [4968, 6], which does not match the required output shape [4968, 8]. This behavior is deprecated, and in a future PyTorch release outputs will not be resized unless they have zero elements. You can explicitly reuse an out tensor t by resizing it, inplace, to zero elements with t.resize_(0). (Triggered internally at ../aten/src/ATen/native/Resize.cpp:17.)\n",
      "  torch.cat(prob_list, out=y_prob)\n"
     ]
    },
    {
     "name": "stdout",
     "output_type": "stream",
     "text": [
      "*******************************************************************************\n",
      "EFFNETB0 METABLOCK\n",
      "*******************************************************************************\n",
      "\n"
     ]
    },
    {
     "name": "stderr",
     "output_type": "stream",
     "text": [
      "/home/gabriel/skin/ISIC2019/../utils/metrics.py:47: UserWarning: An output with one or more elements was resized since it had shape [4968, 6], which does not match the required output shape [4968, 8]. This behavior is deprecated, and in a future PyTorch release outputs will not be resized unless they have zero elements. You can explicitly reuse an out tensor t by resizing it, inplace, to zero elements with t.resize_(0). (Triggered internally at ../aten/src/ATen/native/Resize.cpp:17.)\n",
      "  torch.cat(prob_list, out=y_prob)\n"
     ]
    },
    {
     "name": "stdout",
     "output_type": "stream",
     "text": [
      "Loaded pretrained weights for efficientnet-b1\n",
      "*******************************************************************************\n",
      "EFFNETB1 NO_META\n",
      "*******************************************************************************\n",
      "\n",
      "Loaded pretrained weights for efficientnet-b1\n"
     ]
    },
    {
     "name": "stderr",
     "output_type": "stream",
     "text": [
      "/home/gabriel/skin/ISIC2019/../utils/metrics.py:47: UserWarning: An output with one or more elements was resized since it had shape [4968, 6], which does not match the required output shape [4968, 8]. This behavior is deprecated, and in a future PyTorch release outputs will not be resized unless they have zero elements. You can explicitly reuse an out tensor t by resizing it, inplace, to zero elements with t.resize_(0). (Triggered internally at ../aten/src/ATen/native/Resize.cpp:17.)\n",
      "  torch.cat(prob_list, out=y_prob)\n"
     ]
    },
    {
     "name": "stdout",
     "output_type": "stream",
     "text": [
      "*******************************************************************************\n",
      "EFFNETB1 CONCAT\n",
      "*******************************************************************************\n",
      "\n"
     ]
    },
    {
     "name": "stderr",
     "output_type": "stream",
     "text": [
      "/home/gabriel/skin/ISIC2019/../utils/metrics.py:47: UserWarning: An output with one or more elements was resized since it had shape [4968, 6], which does not match the required output shape [4968, 8]. This behavior is deprecated, and in a future PyTorch release outputs will not be resized unless they have zero elements. You can explicitly reuse an out tensor t by resizing it, inplace, to zero elements with t.resize_(0). (Triggered internally at ../aten/src/ATen/native/Resize.cpp:17.)\n",
      "  torch.cat(prob_list, out=y_prob)\n"
     ]
    },
    {
     "name": "stdout",
     "output_type": "stream",
     "text": [
      "*******************************************************************************\n",
      "EFFNETB1 METANET\n",
      "*******************************************************************************\n",
      "\n"
     ]
    },
    {
     "name": "stderr",
     "output_type": "stream",
     "text": [
      "/home/gabriel/skin/ISIC2019/../utils/metrics.py:47: UserWarning: An output with one or more elements was resized since it had shape [4968, 6], which does not match the required output shape [4968, 8]. This behavior is deprecated, and in a future PyTorch release outputs will not be resized unless they have zero elements. You can explicitly reuse an out tensor t by resizing it, inplace, to zero elements with t.resize_(0). (Triggered internally at ../aten/src/ATen/native/Resize.cpp:17.)\n",
      "  torch.cat(prob_list, out=y_prob)\n"
     ]
    },
    {
     "name": "stdout",
     "output_type": "stream",
     "text": [
      "*******************************************************************************\n",
      "EFFNETB1 METABLOCK\n",
      "*******************************************************************************\n",
      "\n"
     ]
    },
    {
     "name": "stderr",
     "output_type": "stream",
     "text": [
      "/home/gabriel/skin/ISIC2019/../utils/metrics.py:47: UserWarning: An output with one or more elements was resized since it had shape [4968, 6], which does not match the required output shape [4968, 8]. This behavior is deprecated, and in a future PyTorch release outputs will not be resized unless they have zero elements. You can explicitly reuse an out tensor t by resizing it, inplace, to zero elements with t.resize_(0). (Triggered internally at ../aten/src/ATen/native/Resize.cpp:17.)\n",
      "  torch.cat(prob_list, out=y_prob)\n"
     ]
    },
    {
     "name": "stdout",
     "output_type": "stream",
     "text": [
      "Loaded pretrained weights for efficientnet-b2\n",
      "*******************************************************************************\n",
      "EFFNETB2 NO_META\n",
      "*******************************************************************************\n",
      "\n",
      "Loaded pretrained weights for efficientnet-b2\n"
     ]
    },
    {
     "name": "stderr",
     "output_type": "stream",
     "text": [
      "/home/gabriel/skin/ISIC2019/../utils/metrics.py:47: UserWarning: An output with one or more elements was resized since it had shape [4968, 6], which does not match the required output shape [4968, 8]. This behavior is deprecated, and in a future PyTorch release outputs will not be resized unless they have zero elements. You can explicitly reuse an out tensor t by resizing it, inplace, to zero elements with t.resize_(0). (Triggered internally at ../aten/src/ATen/native/Resize.cpp:17.)\n",
      "  torch.cat(prob_list, out=y_prob)\n"
     ]
    },
    {
     "name": "stdout",
     "output_type": "stream",
     "text": [
      "*******************************************************************************\n",
      "EFFNETB2 CONCAT\n",
      "*******************************************************************************\n",
      "\n"
     ]
    },
    {
     "name": "stderr",
     "output_type": "stream",
     "text": [
      "/home/gabriel/skin/ISIC2019/../utils/metrics.py:47: UserWarning: An output with one or more elements was resized since it had shape [4968, 6], which does not match the required output shape [4968, 8]. This behavior is deprecated, and in a future PyTorch release outputs will not be resized unless they have zero elements. You can explicitly reuse an out tensor t by resizing it, inplace, to zero elements with t.resize_(0). (Triggered internally at ../aten/src/ATen/native/Resize.cpp:17.)\n",
      "  torch.cat(prob_list, out=y_prob)\n"
     ]
    },
    {
     "name": "stdout",
     "output_type": "stream",
     "text": [
      "*******************************************************************************\n",
      "EFFNETB2 METANET\n",
      "*******************************************************************************\n",
      "\n"
     ]
    },
    {
     "name": "stderr",
     "output_type": "stream",
     "text": [
      "/home/gabriel/skin/ISIC2019/../utils/metrics.py:47: UserWarning: An output with one or more elements was resized since it had shape [4968, 6], which does not match the required output shape [4968, 8]. This behavior is deprecated, and in a future PyTorch release outputs will not be resized unless they have zero elements. You can explicitly reuse an out tensor t by resizing it, inplace, to zero elements with t.resize_(0). (Triggered internally at ../aten/src/ATen/native/Resize.cpp:17.)\n",
      "  torch.cat(prob_list, out=y_prob)\n"
     ]
    },
    {
     "name": "stdout",
     "output_type": "stream",
     "text": [
      "*******************************************************************************\n",
      "EFFNETB2 METABLOCK\n",
      "*******************************************************************************\n",
      "\n"
     ]
    },
    {
     "name": "stderr",
     "output_type": "stream",
     "text": [
      "/home/gabriel/skin/ISIC2019/../utils/metrics.py:47: UserWarning: An output with one or more elements was resized since it had shape [4968, 6], which does not match the required output shape [4968, 8]. This behavior is deprecated, and in a future PyTorch release outputs will not be resized unless they have zero elements. You can explicitly reuse an out tensor t by resizing it, inplace, to zero elements with t.resize_(0). (Triggered internally at ../aten/src/ATen/native/Resize.cpp:17.)\n",
      "  torch.cat(prob_list, out=y_prob)\n"
     ]
    },
    {
     "name": "stdout",
     "output_type": "stream",
     "text": [
      "Loaded pretrained weights for efficientnet-b3\n",
      "*******************************************************************************\n",
      "EFFNETB3 NO_META\n",
      "*******************************************************************************\n",
      "\n",
      "Loaded pretrained weights for efficientnet-b3\n"
     ]
    },
    {
     "name": "stderr",
     "output_type": "stream",
     "text": [
      "/home/gabriel/skin/ISIC2019/../utils/metrics.py:47: UserWarning: An output with one or more elements was resized since it had shape [4968, 6], which does not match the required output shape [4968, 8]. This behavior is deprecated, and in a future PyTorch release outputs will not be resized unless they have zero elements. You can explicitly reuse an out tensor t by resizing it, inplace, to zero elements with t.resize_(0). (Triggered internally at ../aten/src/ATen/native/Resize.cpp:17.)\n",
      "  torch.cat(prob_list, out=y_prob)\n"
     ]
    },
    {
     "name": "stdout",
     "output_type": "stream",
     "text": [
      "*******************************************************************************\n",
      "EFFNETB3 CONCAT\n",
      "*******************************************************************************\n",
      "\n"
     ]
    },
    {
     "name": "stderr",
     "output_type": "stream",
     "text": [
      "/home/gabriel/skin/ISIC2019/../utils/metrics.py:47: UserWarning: An output with one or more elements was resized since it had shape [4968, 6], which does not match the required output shape [4968, 8]. This behavior is deprecated, and in a future PyTorch release outputs will not be resized unless they have zero elements. You can explicitly reuse an out tensor t by resizing it, inplace, to zero elements with t.resize_(0). (Triggered internally at ../aten/src/ATen/native/Resize.cpp:17.)\n",
      "  torch.cat(prob_list, out=y_prob)\n"
     ]
    },
    {
     "name": "stdout",
     "output_type": "stream",
     "text": [
      "*******************************************************************************\n",
      "EFFNETB3 METANET\n",
      "*******************************************************************************\n",
      "\n"
     ]
    },
    {
     "name": "stderr",
     "output_type": "stream",
     "text": [
      "/home/gabriel/skin/ISIC2019/../utils/metrics.py:47: UserWarning: An output with one or more elements was resized since it had shape [4968, 6], which does not match the required output shape [4968, 8]. This behavior is deprecated, and in a future PyTorch release outputs will not be resized unless they have zero elements. You can explicitly reuse an out tensor t by resizing it, inplace, to zero elements with t.resize_(0). (Triggered internally at ../aten/src/ATen/native/Resize.cpp:17.)\n",
      "  torch.cat(prob_list, out=y_prob)\n"
     ]
    },
    {
     "name": "stdout",
     "output_type": "stream",
     "text": [
      "*******************************************************************************\n",
      "EFFNETB3 METABLOCK\n",
      "*******************************************************************************\n",
      "\n"
     ]
    },
    {
     "name": "stderr",
     "output_type": "stream",
     "text": [
      "/home/gabriel/skin/ISIC2019/../utils/metrics.py:47: UserWarning: An output with one or more elements was resized since it had shape [4968, 6], which does not match the required output shape [4968, 8]. This behavior is deprecated, and in a future PyTorch release outputs will not be resized unless they have zero elements. You can explicitly reuse an out tensor t by resizing it, inplace, to zero elements with t.resize_(0). (Triggered internally at ../aten/src/ATen/native/Resize.cpp:17.)\n",
      "  torch.cat(prob_list, out=y_prob)\n"
     ]
    },
    {
     "name": "stdout",
     "output_type": "stream",
     "text": [
      "Loaded pretrained weights for efficientnet-b4\n",
      "*******************************************************************************\n",
      "EFFNETB4 NO_META\n",
      "*******************************************************************************\n",
      "\n",
      "Loaded pretrained weights for efficientnet-b4\n"
     ]
    },
    {
     "name": "stderr",
     "output_type": "stream",
     "text": [
      "/home/gabriel/skin/ISIC2019/../utils/metrics.py:47: UserWarning: An output with one or more elements was resized since it had shape [4968, 6], which does not match the required output shape [4968, 8]. This behavior is deprecated, and in a future PyTorch release outputs will not be resized unless they have zero elements. You can explicitly reuse an out tensor t by resizing it, inplace, to zero elements with t.resize_(0). (Triggered internally at ../aten/src/ATen/native/Resize.cpp:17.)\n",
      "  torch.cat(prob_list, out=y_prob)\n"
     ]
    },
    {
     "name": "stdout",
     "output_type": "stream",
     "text": [
      "*******************************************************************************\n",
      "EFFNETB4 CONCAT\n",
      "*******************************************************************************\n",
      "\n"
     ]
    },
    {
     "name": "stderr",
     "output_type": "stream",
     "text": [
      "/home/gabriel/skin/ISIC2019/../utils/metrics.py:47: UserWarning: An output with one or more elements was resized since it had shape [4968, 6], which does not match the required output shape [4968, 8]. This behavior is deprecated, and in a future PyTorch release outputs will not be resized unless they have zero elements. You can explicitly reuse an out tensor t by resizing it, inplace, to zero elements with t.resize_(0). (Triggered internally at ../aten/src/ATen/native/Resize.cpp:17.)\n",
      "  torch.cat(prob_list, out=y_prob)\n"
     ]
    },
    {
     "name": "stdout",
     "output_type": "stream",
     "text": [
      "*******************************************************************************\n",
      "EFFNETB4 METANET\n",
      "*******************************************************************************\n",
      "\n"
     ]
    },
    {
     "name": "stderr",
     "output_type": "stream",
     "text": [
      "/home/gabriel/skin/ISIC2019/../utils/metrics.py:47: UserWarning: An output with one or more elements was resized since it had shape [4968, 6], which does not match the required output shape [4968, 8]. This behavior is deprecated, and in a future PyTorch release outputs will not be resized unless they have zero elements. You can explicitly reuse an out tensor t by resizing it, inplace, to zero elements with t.resize_(0). (Triggered internally at ../aten/src/ATen/native/Resize.cpp:17.)\n",
      "  torch.cat(prob_list, out=y_prob)\n"
     ]
    },
    {
     "name": "stdout",
     "output_type": "stream",
     "text": [
      "*******************************************************************************\n",
      "EFFNETB4 METABLOCK\n",
      "*******************************************************************************\n",
      "\n"
     ]
    },
    {
     "name": "stderr",
     "output_type": "stream",
     "text": [
      "/home/gabriel/skin/ISIC2019/../utils/metrics.py:47: UserWarning: An output with one or more elements was resized since it had shape [4968, 6], which does not match the required output shape [4968, 8]. This behavior is deprecated, and in a future PyTorch release outputs will not be resized unless they have zero elements. You can explicitly reuse an out tensor t by resizing it, inplace, to zero elements with t.resize_(0). (Triggered internally at ../aten/src/ATen/native/Resize.cpp:17.)\n",
      "  torch.cat(prob_list, out=y_prob)\n"
     ]
    },
    {
     "name": "stdout",
     "output_type": "stream",
     "text": [
      "Loaded pretrained weights for efficientnet-b5\n",
      "*******************************************************************************\n",
      "EFFNETB5 NO_META\n",
      "*******************************************************************************\n",
      "\n",
      "Loaded pretrained weights for efficientnet-b5\n"
     ]
    },
    {
     "name": "stderr",
     "output_type": "stream",
     "text": [
      "/home/gabriel/skin/ISIC2019/../utils/metrics.py:47: UserWarning: An output with one or more elements was resized since it had shape [4968, 6], which does not match the required output shape [4968, 8]. This behavior is deprecated, and in a future PyTorch release outputs will not be resized unless they have zero elements. You can explicitly reuse an out tensor t by resizing it, inplace, to zero elements with t.resize_(0). (Triggered internally at ../aten/src/ATen/native/Resize.cpp:17.)\n",
      "  torch.cat(prob_list, out=y_prob)\n"
     ]
    },
    {
     "name": "stdout",
     "output_type": "stream",
     "text": [
      "*******************************************************************************\n",
      "EFFNETB5 CONCAT\n",
      "*******************************************************************************\n",
      "\n"
     ]
    },
    {
     "name": "stderr",
     "output_type": "stream",
     "text": [
      "/home/gabriel/skin/ISIC2019/../utils/metrics.py:47: UserWarning: An output with one or more elements was resized since it had shape [4968, 6], which does not match the required output shape [4968, 8]. This behavior is deprecated, and in a future PyTorch release outputs will not be resized unless they have zero elements. You can explicitly reuse an out tensor t by resizing it, inplace, to zero elements with t.resize_(0). (Triggered internally at ../aten/src/ATen/native/Resize.cpp:17.)\n",
      "  torch.cat(prob_list, out=y_prob)\n"
     ]
    },
    {
     "name": "stdout",
     "output_type": "stream",
     "text": [
      "*******************************************************************************\n",
      "EFFNETB5 METANET\n",
      "*******************************************************************************\n",
      "\n"
     ]
    },
    {
     "name": "stderr",
     "output_type": "stream",
     "text": [
      "/home/gabriel/skin/ISIC2019/../utils/metrics.py:47: UserWarning: An output with one or more elements was resized since it had shape [4968, 6], which does not match the required output shape [4968, 8]. This behavior is deprecated, and in a future PyTorch release outputs will not be resized unless they have zero elements. You can explicitly reuse an out tensor t by resizing it, inplace, to zero elements with t.resize_(0). (Triggered internally at ../aten/src/ATen/native/Resize.cpp:17.)\n",
      "  torch.cat(prob_list, out=y_prob)\n"
     ]
    },
    {
     "name": "stdout",
     "output_type": "stream",
     "text": [
      "*******************************************************************************\n",
      "EFFNETB5 METABLOCK\n",
      "*******************************************************************************\n",
      "\n"
     ]
    },
    {
     "name": "stderr",
     "output_type": "stream",
     "text": [
      "/home/gabriel/skin/ISIC2019/../utils/metrics.py:47: UserWarning: An output with one or more elements was resized since it had shape [4968, 6], which does not match the required output shape [4968, 8]. This behavior is deprecated, and in a future PyTorch release outputs will not be resized unless they have zero elements. You can explicitly reuse an out tensor t by resizing it, inplace, to zero elements with t.resize_(0). (Triggered internally at ../aten/src/ATen/native/Resize.cpp:17.)\n",
      "  torch.cat(prob_list, out=y_prob)\n"
     ]
    },
    {
     "name": "stdout",
     "output_type": "stream",
     "text": [
      "*******************************************************************************\n",
      "RESNEXT50 NO_META\n",
      "*******************************************************************************\n",
      "\n"
     ]
    },
    {
     "name": "stderr",
     "output_type": "stream",
     "text": [
      "/home/gabriel/skin/ISIC2019/../utils/metrics.py:47: UserWarning: An output with one or more elements was resized since it had shape [4968, 6], which does not match the required output shape [4968, 8]. This behavior is deprecated, and in a future PyTorch release outputs will not be resized unless they have zero elements. You can explicitly reuse an out tensor t by resizing it, inplace, to zero elements with t.resize_(0). (Triggered internally at ../aten/src/ATen/native/Resize.cpp:17.)\n",
      "  torch.cat(prob_list, out=y_prob)\n"
     ]
    },
    {
     "name": "stdout",
     "output_type": "stream",
     "text": [
      "*******************************************************************************\n",
      "RESNEXT50 CONCAT\n",
      "*******************************************************************************\n",
      "\n"
     ]
    },
    {
     "name": "stderr",
     "output_type": "stream",
     "text": [
      "/home/gabriel/skin/ISIC2019/../utils/metrics.py:47: UserWarning: An output with one or more elements was resized since it had shape [4968, 6], which does not match the required output shape [4968, 8]. This behavior is deprecated, and in a future PyTorch release outputs will not be resized unless they have zero elements. You can explicitly reuse an out tensor t by resizing it, inplace, to zero elements with t.resize_(0). (Triggered internally at ../aten/src/ATen/native/Resize.cpp:17.)\n",
      "  torch.cat(prob_list, out=y_prob)\n"
     ]
    },
    {
     "name": "stdout",
     "output_type": "stream",
     "text": [
      "*******************************************************************************\n",
      "RESNEXT50 METANET\n",
      "*******************************************************************************\n",
      "\n"
     ]
    },
    {
     "name": "stderr",
     "output_type": "stream",
     "text": [
      "/home/gabriel/skin/ISIC2019/../utils/metrics.py:47: UserWarning: An output with one or more elements was resized since it had shape [4968, 6], which does not match the required output shape [4968, 8]. This behavior is deprecated, and in a future PyTorch release outputs will not be resized unless they have zero elements. You can explicitly reuse an out tensor t by resizing it, inplace, to zero elements with t.resize_(0). (Triggered internally at ../aten/src/ATen/native/Resize.cpp:17.)\n",
      "  torch.cat(prob_list, out=y_prob)\n"
     ]
    },
    {
     "name": "stdout",
     "output_type": "stream",
     "text": [
      "*******************************************************************************\n",
      "RESNEXT50 METABLOCK\n",
      "*******************************************************************************\n",
      "\n"
     ]
    },
    {
     "name": "stderr",
     "output_type": "stream",
     "text": [
      "/home/gabriel/skin/ISIC2019/../utils/metrics.py:47: UserWarning: An output with one or more elements was resized since it had shape [4968, 6], which does not match the required output shape [4968, 8]. This behavior is deprecated, and in a future PyTorch release outputs will not be resized unless they have zero elements. You can explicitly reuse an out tensor t by resizing it, inplace, to zero elements with t.resize_(0). (Triggered internally at ../aten/src/ATen/native/Resize.cpp:17.)\n",
      "  torch.cat(prob_list, out=y_prob)\n"
     ]
    },
    {
     "name": "stdout",
     "output_type": "stream",
     "text": [
      "*******************************************************************************\n",
      "RESNEXT101 NO_META\n",
      "*******************************************************************************\n",
      "\n"
     ]
    },
    {
     "name": "stderr",
     "output_type": "stream",
     "text": [
      "/home/gabriel/skin/ISIC2019/../utils/metrics.py:47: UserWarning: An output with one or more elements was resized since it had shape [4968, 6], which does not match the required output shape [4968, 8]. This behavior is deprecated, and in a future PyTorch release outputs will not be resized unless they have zero elements. You can explicitly reuse an out tensor t by resizing it, inplace, to zero elements with t.resize_(0). (Triggered internally at ../aten/src/ATen/native/Resize.cpp:17.)\n",
      "  torch.cat(prob_list, out=y_prob)\n"
     ]
    },
    {
     "name": "stdout",
     "output_type": "stream",
     "text": [
      "*******************************************************************************\n",
      "RESNEXT101 CONCAT\n",
      "*******************************************************************************\n",
      "\n"
     ]
    },
    {
     "name": "stderr",
     "output_type": "stream",
     "text": [
      "/home/gabriel/skin/ISIC2019/../utils/metrics.py:47: UserWarning: An output with one or more elements was resized since it had shape [4968, 6], which does not match the required output shape [4968, 8]. This behavior is deprecated, and in a future PyTorch release outputs will not be resized unless they have zero elements. You can explicitly reuse an out tensor t by resizing it, inplace, to zero elements with t.resize_(0). (Triggered internally at ../aten/src/ATen/native/Resize.cpp:17.)\n",
      "  torch.cat(prob_list, out=y_prob)\n"
     ]
    },
    {
     "name": "stdout",
     "output_type": "stream",
     "text": [
      "*******************************************************************************\n",
      "RESNEXT101 METANET\n",
      "*******************************************************************************\n",
      "\n"
     ]
    },
    {
     "name": "stderr",
     "output_type": "stream",
     "text": [
      "/home/gabriel/skin/ISIC2019/../utils/metrics.py:47: UserWarning: An output with one or more elements was resized since it had shape [4968, 6], which does not match the required output shape [4968, 8]. This behavior is deprecated, and in a future PyTorch release outputs will not be resized unless they have zero elements. You can explicitly reuse an out tensor t by resizing it, inplace, to zero elements with t.resize_(0). (Triggered internally at ../aten/src/ATen/native/Resize.cpp:17.)\n",
      "  torch.cat(prob_list, out=y_prob)\n"
     ]
    },
    {
     "name": "stdout",
     "output_type": "stream",
     "text": [
      "*******************************************************************************\n",
      "RESNEXT101 METABLOCK\n",
      "*******************************************************************************\n",
      "\n"
     ]
    },
    {
     "name": "stderr",
     "output_type": "stream",
     "text": [
      "/home/gabriel/skin/ISIC2019/../utils/metrics.py:47: UserWarning: An output with one or more elements was resized since it had shape [4968, 6], which does not match the required output shape [4968, 8]. This behavior is deprecated, and in a future PyTorch release outputs will not be resized unless they have zero elements. You can explicitly reuse an out tensor t by resizing it, inplace, to zero elements with t.resize_(0). (Triggered internally at ../aten/src/ATen/native/Resize.cpp:17.)\n",
      "  torch.cat(prob_list, out=y_prob)\n"
     ]
    },
    {
     "name": "stdout",
     "output_type": "stream",
     "text": [
      "*******************************************************************************\n",
      "VGG11 NO_META\n",
      "*******************************************************************************\n",
      "\n"
     ]
    },
    {
     "name": "stderr",
     "output_type": "stream",
     "text": [
      "/home/gabriel/skin/ISIC2019/../utils/metrics.py:47: UserWarning: An output with one or more elements was resized since it had shape [4968, 6], which does not match the required output shape [4968, 8]. This behavior is deprecated, and in a future PyTorch release outputs will not be resized unless they have zero elements. You can explicitly reuse an out tensor t by resizing it, inplace, to zero elements with t.resize_(0). (Triggered internally at ../aten/src/ATen/native/Resize.cpp:17.)\n",
      "  torch.cat(prob_list, out=y_prob)\n"
     ]
    },
    {
     "name": "stdout",
     "output_type": "stream",
     "text": [
      "*******************************************************************************\n",
      "VGG11 CONCAT\n",
      "*******************************************************************************\n",
      "\n"
     ]
    },
    {
     "name": "stderr",
     "output_type": "stream",
     "text": [
      "/home/gabriel/skin/ISIC2019/../utils/metrics.py:47: UserWarning: An output with one or more elements was resized since it had shape [4968, 6], which does not match the required output shape [4968, 8]. This behavior is deprecated, and in a future PyTorch release outputs will not be resized unless they have zero elements. You can explicitly reuse an out tensor t by resizing it, inplace, to zero elements with t.resize_(0). (Triggered internally at ../aten/src/ATen/native/Resize.cpp:17.)\n",
      "  torch.cat(prob_list, out=y_prob)\n"
     ]
    },
    {
     "name": "stdout",
     "output_type": "stream",
     "text": [
      "*******************************************************************************\n",
      "VGG11 METANET\n",
      "*******************************************************************************\n",
      "\n"
     ]
    },
    {
     "name": "stderr",
     "output_type": "stream",
     "text": [
      "/home/gabriel/skin/ISIC2019/../utils/metrics.py:47: UserWarning: An output with one or more elements was resized since it had shape [4968, 6], which does not match the required output shape [4968, 8]. This behavior is deprecated, and in a future PyTorch release outputs will not be resized unless they have zero elements. You can explicitly reuse an out tensor t by resizing it, inplace, to zero elements with t.resize_(0). (Triggered internally at ../aten/src/ATen/native/Resize.cpp:17.)\n",
      "  torch.cat(prob_list, out=y_prob)\n"
     ]
    },
    {
     "name": "stdout",
     "output_type": "stream",
     "text": [
      "*******************************************************************************\n",
      "VGG11 METABLOCK\n",
      "*******************************************************************************\n",
      "\n"
     ]
    },
    {
     "name": "stderr",
     "output_type": "stream",
     "text": [
      "/home/gabriel/skin/ISIC2019/../utils/metrics.py:47: UserWarning: An output with one or more elements was resized since it had shape [4968, 6], which does not match the required output shape [4968, 8]. This behavior is deprecated, and in a future PyTorch release outputs will not be resized unless they have zero elements. You can explicitly reuse an out tensor t by resizing it, inplace, to zero elements with t.resize_(0). (Triggered internally at ../aten/src/ATen/native/Resize.cpp:17.)\n",
      "  torch.cat(prob_list, out=y_prob)\n"
     ]
    },
    {
     "name": "stdout",
     "output_type": "stream",
     "text": [
      "*******************************************************************************\n",
      "VGG13 NO_META\n",
      "*******************************************************************************\n",
      "\n"
     ]
    },
    {
     "name": "stderr",
     "output_type": "stream",
     "text": [
      "/home/gabriel/skin/ISIC2019/../utils/metrics.py:47: UserWarning: An output with one or more elements was resized since it had shape [4968, 6], which does not match the required output shape [4968, 8]. This behavior is deprecated, and in a future PyTorch release outputs will not be resized unless they have zero elements. You can explicitly reuse an out tensor t by resizing it, inplace, to zero elements with t.resize_(0). (Triggered internally at ../aten/src/ATen/native/Resize.cpp:17.)\n",
      "  torch.cat(prob_list, out=y_prob)\n"
     ]
    },
    {
     "name": "stdout",
     "output_type": "stream",
     "text": [
      "*******************************************************************************\n",
      "VGG13 CONCAT\n",
      "*******************************************************************************\n",
      "\n"
     ]
    },
    {
     "name": "stderr",
     "output_type": "stream",
     "text": [
      "/home/gabriel/skin/ISIC2019/../utils/metrics.py:47: UserWarning: An output with one or more elements was resized since it had shape [4968, 6], which does not match the required output shape [4968, 8]. This behavior is deprecated, and in a future PyTorch release outputs will not be resized unless they have zero elements. You can explicitly reuse an out tensor t by resizing it, inplace, to zero elements with t.resize_(0). (Triggered internally at ../aten/src/ATen/native/Resize.cpp:17.)\n",
      "  torch.cat(prob_list, out=y_prob)\n"
     ]
    },
    {
     "name": "stdout",
     "output_type": "stream",
     "text": [
      "*******************************************************************************\n",
      "VGG13 METANET\n",
      "*******************************************************************************\n",
      "\n"
     ]
    },
    {
     "name": "stderr",
     "output_type": "stream",
     "text": [
      "/home/gabriel/skin/ISIC2019/../utils/metrics.py:47: UserWarning: An output with one or more elements was resized since it had shape [4968, 6], which does not match the required output shape [4968, 8]. This behavior is deprecated, and in a future PyTorch release outputs will not be resized unless they have zero elements. You can explicitly reuse an out tensor t by resizing it, inplace, to zero elements with t.resize_(0). (Triggered internally at ../aten/src/ATen/native/Resize.cpp:17.)\n",
      "  torch.cat(prob_list, out=y_prob)\n"
     ]
    },
    {
     "name": "stdout",
     "output_type": "stream",
     "text": [
      "*******************************************************************************\n",
      "VGG13 METABLOCK\n",
      "*******************************************************************************\n",
      "\n"
     ]
    },
    {
     "name": "stderr",
     "output_type": "stream",
     "text": [
      "/home/gabriel/skin/ISIC2019/../utils/metrics.py:47: UserWarning: An output with one or more elements was resized since it had shape [4968, 6], which does not match the required output shape [4968, 8]. This behavior is deprecated, and in a future PyTorch release outputs will not be resized unless they have zero elements. You can explicitly reuse an out tensor t by resizing it, inplace, to zero elements with t.resize_(0). (Triggered internally at ../aten/src/ATen/native/Resize.cpp:17.)\n",
      "  torch.cat(prob_list, out=y_prob)\n"
     ]
    },
    {
     "name": "stdout",
     "output_type": "stream",
     "text": [
      "*******************************************************************************\n",
      "VGG16 NO_META\n",
      "*******************************************************************************\n",
      "\n"
     ]
    },
    {
     "name": "stderr",
     "output_type": "stream",
     "text": [
      "/home/gabriel/skin/ISIC2019/../utils/metrics.py:47: UserWarning: An output with one or more elements was resized since it had shape [4968, 6], which does not match the required output shape [4968, 8]. This behavior is deprecated, and in a future PyTorch release outputs will not be resized unless they have zero elements. You can explicitly reuse an out tensor t by resizing it, inplace, to zero elements with t.resize_(0). (Triggered internally at ../aten/src/ATen/native/Resize.cpp:17.)\n",
      "  torch.cat(prob_list, out=y_prob)\n"
     ]
    },
    {
     "name": "stdout",
     "output_type": "stream",
     "text": [
      "*******************************************************************************\n",
      "VGG16 CONCAT\n",
      "*******************************************************************************\n",
      "\n"
     ]
    },
    {
     "name": "stderr",
     "output_type": "stream",
     "text": [
      "/home/gabriel/skin/ISIC2019/../utils/metrics.py:47: UserWarning: An output with one or more elements was resized since it had shape [4968, 6], which does not match the required output shape [4968, 8]. This behavior is deprecated, and in a future PyTorch release outputs will not be resized unless they have zero elements. You can explicitly reuse an out tensor t by resizing it, inplace, to zero elements with t.resize_(0). (Triggered internally at ../aten/src/ATen/native/Resize.cpp:17.)\n",
      "  torch.cat(prob_list, out=y_prob)\n"
     ]
    },
    {
     "name": "stdout",
     "output_type": "stream",
     "text": [
      "*******************************************************************************\n",
      "VGG16 METANET\n",
      "*******************************************************************************\n",
      "\n"
     ]
    },
    {
     "name": "stderr",
     "output_type": "stream",
     "text": [
      "/home/gabriel/skin/ISIC2019/../utils/metrics.py:47: UserWarning: An output with one or more elements was resized since it had shape [4968, 6], which does not match the required output shape [4968, 8]. This behavior is deprecated, and in a future PyTorch release outputs will not be resized unless they have zero elements. You can explicitly reuse an out tensor t by resizing it, inplace, to zero elements with t.resize_(0). (Triggered internally at ../aten/src/ATen/native/Resize.cpp:17.)\n",
      "  torch.cat(prob_list, out=y_prob)\n"
     ]
    },
    {
     "name": "stdout",
     "output_type": "stream",
     "text": [
      "*******************************************************************************\n",
      "VGG16 METABLOCK\n",
      "*******************************************************************************\n",
      "\n"
     ]
    },
    {
     "name": "stderr",
     "output_type": "stream",
     "text": [
      "/home/gabriel/skin/ISIC2019/../utils/metrics.py:47: UserWarning: An output with one or more elements was resized since it had shape [4968, 6], which does not match the required output shape [4968, 8]. This behavior is deprecated, and in a future PyTorch release outputs will not be resized unless they have zero elements. You can explicitly reuse an out tensor t by resizing it, inplace, to zero elements with t.resize_(0). (Triggered internally at ../aten/src/ATen/native/Resize.cpp:17.)\n",
      "  torch.cat(prob_list, out=y_prob)\n"
     ]
    },
    {
     "name": "stdout",
     "output_type": "stream",
     "text": [
      "*******************************************************************************\n",
      "VIT_B_32 NO_META\n",
      "*******************************************************************************\n",
      "\n"
     ]
    },
    {
     "name": "stderr",
     "output_type": "stream",
     "text": [
      "/home/gabriel/skin/ISIC2019/../utils/metrics.py:47: UserWarning: An output with one or more elements was resized since it had shape [4968, 6], which does not match the required output shape [4968, 8]. This behavior is deprecated, and in a future PyTorch release outputs will not be resized unless they have zero elements. You can explicitly reuse an out tensor t by resizing it, inplace, to zero elements with t.resize_(0). (Triggered internally at ../aten/src/ATen/native/Resize.cpp:17.)\n",
      "  torch.cat(prob_list, out=y_prob)\n"
     ]
    },
    {
     "name": "stdout",
     "output_type": "stream",
     "text": [
      "*******************************************************************************\n",
      "VIT_B_32 CONCAT\n",
      "*******************************************************************************\n",
      "\n"
     ]
    },
    {
     "name": "stderr",
     "output_type": "stream",
     "text": [
      "/home/gabriel/skin/ISIC2019/../utils/metrics.py:47: UserWarning: An output with one or more elements was resized since it had shape [4968, 6], which does not match the required output shape [4968, 8]. This behavior is deprecated, and in a future PyTorch release outputs will not be resized unless they have zero elements. You can explicitly reuse an out tensor t by resizing it, inplace, to zero elements with t.resize_(0). (Triggered internally at ../aten/src/ATen/native/Resize.cpp:17.)\n",
      "  torch.cat(prob_list, out=y_prob)\n"
     ]
    },
    {
     "name": "stdout",
     "output_type": "stream",
     "text": [
      "*******************************************************************************\n",
      "VIT_B_32 METANET\n",
      "*******************************************************************************\n",
      "\n"
     ]
    },
    {
     "name": "stderr",
     "output_type": "stream",
     "text": [
      "/home/gabriel/skin/ISIC2019/../utils/metrics.py:47: UserWarning: An output with one or more elements was resized since it had shape [4968, 6], which does not match the required output shape [4968, 8]. This behavior is deprecated, and in a future PyTorch release outputs will not be resized unless they have zero elements. You can explicitly reuse an out tensor t by resizing it, inplace, to zero elements with t.resize_(0). (Triggered internally at ../aten/src/ATen/native/Resize.cpp:17.)\n",
      "  torch.cat(prob_list, out=y_prob)\n"
     ]
    },
    {
     "name": "stdout",
     "output_type": "stream",
     "text": [
      "*******************************************************************************\n",
      "VIT_B_32 METABLOCK\n",
      "*******************************************************************************\n",
      "\n"
     ]
    },
    {
     "name": "stderr",
     "output_type": "stream",
     "text": [
      "/home/gabriel/skin/ISIC2019/../utils/metrics.py:47: UserWarning: An output with one or more elements was resized since it had shape [4968, 6], which does not match the required output shape [4968, 8]. This behavior is deprecated, and in a future PyTorch release outputs will not be resized unless they have zero elements. You can explicitly reuse an out tensor t by resizing it, inplace, to zero elements with t.resize_(0). (Triggered internally at ../aten/src/ATen/native/Resize.cpp:17.)\n",
      "  torch.cat(prob_list, out=y_prob)\n"
     ]
    }
   ],
   "source": [
    "# Dataloaders\n",
    "test_imgs   = df.loc[test_idcs, 'image'].values\n",
    "test_paths  = [f'{os.path.join(data_dir, img)}.jpg' for img in test_imgs]\n",
    "test_labels = df.loc[test_idcs, 'diagnostic_number'].values\n",
    "\n",
    "test_metadata   = df.loc[test_idcs, metadata_cols].values\n",
    "test_dataloader = get_data_loader(test_paths, test_labels, metadata=test_metadata, transform=val_transform, batch_size=batch_size, num_workers=num_workers) \n",
    "\n",
    "# Training\n",
    "n_classes  = 8\n",
    "n_metadata = test_metadata.shape[1]\n",
    "\n",
    "all_metrics_dict = dict()\n",
    "for model_name in model_names:\n",
    "    model_dict = dict()\n",
    "    base_model = BaseMetaModel(get_model(model_name, n_classes=n_classes, pretrained=True)).to(device)\n",
    "    \n",
    "    for fusion_method in fusion_methods:\n",
    "        print(f'{\"*\"*79}\\n{model_name.upper()} {fusion_method.upper()}\\n{\"*\"*79}\\n')\n",
    "                \n",
    "        if fusion_method == 'no_meta':\n",
    "            save_path = f'best_base_{model_name}_w_{fold}'\n",
    "            model = BaseMetaModel(get_model(model_name, n_classes=n_classes, pretrained=True)).to(device)\n",
    "            model.load_state_dict(torch.load(os.path.join(saved_base_models_folder, save_path)))\n",
    "        else:\n",
    "            save_path = f'best_{model_name}_{fusion_method}_{fold}'\n",
    "            model = MetaModel(base_model, n_classes, n_metadata=n_metadata, fusion_method=fusion_method, n_reducer_block=n_reducer_block).to(device)\n",
    "            model.load_state_dict(torch.load(os.path.join(saved_models_folder, save_path)))\n",
    "\n",
    "        y_true, y_prob, y_pred = get_scores(model, test_dataloader, batch_size, device)\n",
    "        np.save(f'test_scores/y_true_{model_name}_{fusion_method}_{fold}', y_true)\n",
    "        np.save(f'test_scores/y_prob_{model_name}_{fusion_method}_{fold}', y_prob)\n",
    "        np.save(f'test_scores/y_pred_{model_name}_{fusion_method}_{fold}', y_pred)\n",
    "        metrics_dict = get_metrics(y_true, y_prob, y_pred)\n",
    "\n",
    "        del model\n",
    "        gc.collect()\n",
    "        torch.cuda.empty_cache()\n",
    "        \n",
    "        model_dict[fusion_method] = metrics_dict\n",
    "    all_metrics_dict[model_name]  = model_dict"
   ]
  },
  {
   "cell_type": "code",
   "execution_count": 10,
   "metadata": {},
   "outputs": [
    {
     "data": {
      "text/plain": [
       "'/home/gabriel/skin/ISIC2019/test_scores.zip'"
      ]
     },
     "execution_count": 10,
     "metadata": {},
     "output_type": "execute_result"
    }
   ],
   "source": [
    "import shutil\n",
    "shutil.make_archive('test_scores', 'zip', 'test_scores')"
   ]
  },
  {
   "cell_type": "code",
   "execution_count": 12,
   "metadata": {},
   "outputs": [
    {
     "data": {
      "text/plain": [
       "{'resnet18': {'no_meta': {'precision': 0.6937537898841485,\n",
       "   'recall': 0.7024959742351047,\n",
       "   'f1-score': 0.6958272073563704,\n",
       "   'support': 4968,\n",
       "   'accuracy': 0.7024959742351047,\n",
       "   'balanced_accuracy': 0.4887436016031512,\n",
       "   'auc': 0.9116276691282958},\n",
       "  'concat': {'precision': 0.7257215064307896,\n",
       "   'recall': 0.7345008051529791,\n",
       "   'f1-score': 0.7278788274169138,\n",
       "   'support': 4968,\n",
       "   'accuracy': 0.7345008051529791,\n",
       "   'balanced_accuracy': 0.5235788298695409,\n",
       "   'auc': 0.9286845588999474},\n",
       "  'metanet': {'precision': 0.7167216641088437,\n",
       "   'recall': 0.7264492753623188,\n",
       "   'f1-score': 0.7189126471527642,\n",
       "   'support': 4968,\n",
       "   'accuracy': 0.7264492753623188,\n",
       "   'balanced_accuracy': 0.5050626831508895,\n",
       "   'auc': 0.9282460592530584},\n",
       "  'metablock': {'precision': 0.7053279613073287,\n",
       "   'recall': 0.7183977455716586,\n",
       "   'f1-score': 0.7078646283098922,\n",
       "   'support': 4968,\n",
       "   'accuracy': 0.7183977455716586,\n",
       "   'balanced_accuracy': 0.46779321610408564,\n",
       "   'auc': 0.923879444051352}},\n",
       " 'resnet34': {'no_meta': {'precision': 0.6883405397286606,\n",
       "   'recall': 0.6938405797101449,\n",
       "   'f1-score': 0.6820700669352568,\n",
       "   'support': 4968,\n",
       "   'accuracy': 0.6938405797101449,\n",
       "   'balanced_accuracy': 0.471029959445976,\n",
       "   'auc': 0.9065533142192357},\n",
       "  'concat': {'precision': 0.7172262988191187,\n",
       "   'recall': 0.7228260869565217,\n",
       "   'f1-score': 0.7184669693441021,\n",
       "   'support': 4968,\n",
       "   'accuracy': 0.7228260869565217,\n",
       "   'balanced_accuracy': 0.5121213662530432,\n",
       "   'auc': 0.9265730518740946},\n",
       "  'metanet': {'precision': 0.7141868889756826,\n",
       "   'recall': 0.7171900161030595,\n",
       "   'f1-score': 0.7144707721306275,\n",
       "   'support': 4968,\n",
       "   'accuracy': 0.7171900161030595,\n",
       "   'balanced_accuracy': 0.5096492589221662,\n",
       "   'auc': 0.9241258383251156},\n",
       "  'metablock': {'precision': 0.7071074749437625,\n",
       "   'recall': 0.712157809983897,\n",
       "   'f1-score': 0.7052255688917524,\n",
       "   'support': 4968,\n",
       "   'accuracy': 0.712157809983897,\n",
       "   'balanced_accuracy': 0.47059331577391017,\n",
       "   'auc': 0.9224948364362062}},\n",
       " 'resnet50': {'no_meta': {'precision': 0.7003250332410597,\n",
       "   'recall': 0.7047101449275363,\n",
       "   'f1-score': 0.6987807738765905,\n",
       "   'support': 4968,\n",
       "   'accuracy': 0.7047101449275363,\n",
       "   'balanced_accuracy': 0.482604205541854,\n",
       "   'auc': 0.9156267305548881},\n",
       "  'concat': {'precision': 0.717335556641343,\n",
       "   'recall': 0.7248389694041868,\n",
       "   'f1-score': 0.7197020351537026,\n",
       "   'support': 4968,\n",
       "   'accuracy': 0.7248389694041868,\n",
       "   'balanced_accuracy': 0.5023923525334842,\n",
       "   'auc': 0.9273544695591618},\n",
       "  'metanet': {'precision': 0.7093857205335377,\n",
       "   'recall': 0.7212157809983897,\n",
       "   'f1-score': 0.7132252112258006,\n",
       "   'support': 4968,\n",
       "   'accuracy': 0.7212157809983897,\n",
       "   'balanced_accuracy': 0.5010147949676867,\n",
       "   'auc': 0.9215062327274288},\n",
       "  'metablock': {'precision': 0.592599951078316,\n",
       "   'recall': 0.6384863123993558,\n",
       "   'f1-score': 0.6064470188772285,\n",
       "   'support': 4968,\n",
       "   'accuracy': 0.6384863123993558,\n",
       "   'balanced_accuracy': 0.2985254391418002,\n",
       "   'auc': 0.8632732515242374}},\n",
       " 'resnet101': {'no_meta': {'precision': 0.710567113261013,\n",
       "   'recall': 0.712157809983897,\n",
       "   'f1-score': 0.7104236741585637,\n",
       "   'support': 4968,\n",
       "   'accuracy': 0.712157809983897,\n",
       "   'balanced_accuracy': 0.5310728313074966,\n",
       "   'auc': 0.9173824482191218},\n",
       "  'concat': {'precision': 0.7270062956693922,\n",
       "   'recall': 0.7216183574879227,\n",
       "   'f1-score': 0.7229493253902435,\n",
       "   'support': 4968,\n",
       "   'accuracy': 0.7216183574879227,\n",
       "   'balanced_accuracy': 0.5371445304519902,\n",
       "   'auc': 0.9267347622875969},\n",
       "  'metanet': {'precision': 0.7094145588907341,\n",
       "   'recall': 0.7222222222222222,\n",
       "   'f1-score': 0.7106553100115083,\n",
       "   'support': 4968,\n",
       "   'accuracy': 0.7222222222222222,\n",
       "   'balanced_accuracy': 0.49188387995454236,\n",
       "   'auc': 0.9221182617526015},\n",
       "  'metablock': {'precision': 0.6076747864768429,\n",
       "   'recall': 0.6455314009661836,\n",
       "   'f1-score': 0.6193399372977948,\n",
       "   'support': 4968,\n",
       "   'accuracy': 0.6455314009661836,\n",
       "   'balanced_accuracy': 0.3165968845837455,\n",
       "   'auc': 0.8728757228817916}},\n",
       " 'resnet152': {'no_meta': {'precision': 0.7065245272642452,\n",
       "   'recall': 0.7000805152979066,\n",
       "   'f1-score': 0.699764218004207,\n",
       "   'support': 4968,\n",
       "   'accuracy': 0.7000805152979066,\n",
       "   'balanced_accuracy': 0.5045469142259051,\n",
       "   'auc': 0.9134326177905391},\n",
       "  'concat': {'precision': 0.715809098390037,\n",
       "   'recall': 0.7220209339774557,\n",
       "   'f1-score': 0.7177787940311416,\n",
       "   'support': 4968,\n",
       "   'accuracy': 0.7220209339774557,\n",
       "   'balanced_accuracy': 0.5181954937077318,\n",
       "   'auc': 0.9258078539994417},\n",
       "  'metanet': {'precision': 0.7088554645316504,\n",
       "   'recall': 0.7228260869565217,\n",
       "   'f1-score': 0.7084933630286665,\n",
       "   'support': 4968,\n",
       "   'accuracy': 0.7228260869565217,\n",
       "   'balanced_accuracy': 0.4879833472302688,\n",
       "   'auc': 0.9201999090593722},\n",
       "  'metablock': {'precision': 0.6081443312068343,\n",
       "   'recall': 0.6519726247987118,\n",
       "   'f1-score': 0.6093420738182836,\n",
       "   'support': 4968,\n",
       "   'accuracy': 0.6519726247987118,\n",
       "   'balanced_accuracy': 0.29444627192515743,\n",
       "   'auc': 0.8717808862896058}},\n",
       " 'effnetb0': {'no_meta': {'precision': 0.7178308112640099,\n",
       "   'recall': 0.7242351046698873,\n",
       "   'f1-score': 0.7187556144052919,\n",
       "   'support': 4968,\n",
       "   'accuracy': 0.7242351046698873,\n",
       "   'balanced_accuracy': 0.5234225719179907,\n",
       "   'auc': 0.9225403786568349},\n",
       "  'concat': {'precision': 0.7304845467190434,\n",
       "   'recall': 0.7387278582930756,\n",
       "   'f1-score': 0.7323354250342486,\n",
       "   'support': 4968,\n",
       "   'accuracy': 0.7387278582930756,\n",
       "   'balanced_accuracy': 0.5299043153962468,\n",
       "   'auc': 0.9308223298756234},\n",
       "  'metanet': {'precision': 0.7298602398146353,\n",
       "   'recall': 0.7353059581320451,\n",
       "   'f1-score': 0.7296076409149428,\n",
       "   'support': 4968,\n",
       "   'accuracy': 0.7353059581320451,\n",
       "   'balanced_accuracy': 0.5315555231782043,\n",
       "   'auc': 0.9277865805377011},\n",
       "  'metablock': {'precision': 0.6678072209807444,\n",
       "   'recall': 0.7143719806763285,\n",
       "   'f1-score': 0.6828408561446836,\n",
       "   'support': 4968,\n",
       "   'accuracy': 0.7143719806763285,\n",
       "   'balanced_accuracy': 0.36858673703910977,\n",
       "   'auc': 0.9113155092304395}},\n",
       " 'effnetb1': {'no_meta': {'precision': 0.717720483593192,\n",
       "   'recall': 0.7228260869565217,\n",
       "   'f1-score': 0.7184767210874908,\n",
       "   'support': 4968,\n",
       "   'accuracy': 0.7228260869565217,\n",
       "   'balanced_accuracy': 0.5200256527720433,\n",
       "   'auc': 0.9214239196159564},\n",
       "  'concat': {'precision': 0.731032236907389,\n",
       "   'recall': 0.7328904991948471,\n",
       "   'f1-score': 0.730328558981399,\n",
       "   'support': 4968,\n",
       "   'accuracy': 0.7328904991948471,\n",
       "   'balanced_accuracy': 0.5352090845979336,\n",
       "   'auc': 0.9291485370238807},\n",
       "  'metanet': {'precision': 0.7121566635029949,\n",
       "   'recall': 0.7224235104669887,\n",
       "   'f1-score': 0.7144354325665633,\n",
       "   'support': 4968,\n",
       "   'accuracy': 0.7224235104669887,\n",
       "   'balanced_accuracy': 0.49056996534752784,\n",
       "   'auc': 0.9225084386292434},\n",
       "  'metablock': {'precision': 0.6458938403194019,\n",
       "   'recall': 0.6825684380032206,\n",
       "   'f1-score': 0.6531369954586309,\n",
       "   'support': 4968,\n",
       "   'accuracy': 0.6825684380032206,\n",
       "   'balanced_accuracy': 0.340943622311141,\n",
       "   'auc': 0.8816838480761212}},\n",
       " 'effnetb2': {'no_meta': {'precision': 0.7130943036297521,\n",
       "   'recall': 0.7214170692431562,\n",
       "   'f1-score': 0.7156484064800531,\n",
       "   'support': 4968,\n",
       "   'accuracy': 0.7214170692431562,\n",
       "   'balanced_accuracy': 0.5217139298156598,\n",
       "   'auc': 0.9201846837866821},\n",
       "  'concat': {'precision': 0.7303200040089372,\n",
       "   'recall': 0.7338969404186796,\n",
       "   'f1-score': 0.7299847834139435,\n",
       "   'support': 4968,\n",
       "   'accuracy': 0.7338969404186796,\n",
       "   'balanced_accuracy': 0.5419852054981716,\n",
       "   'auc': 0.9283146271154935},\n",
       "  'metanet': {'precision': 0.7214683242526214,\n",
       "   'recall': 0.7294685990338164,\n",
       "   'f1-score': 0.7229634092063397,\n",
       "   'support': 4968,\n",
       "   'accuracy': 0.7294685990338164,\n",
       "   'balanced_accuracy': 0.5136882664639033,\n",
       "   'auc': 0.9225100857291942},\n",
       "  'metablock': {'precision': 0.694640399457024,\n",
       "   'recall': 0.7234299516908212,\n",
       "   'f1-score': 0.6971418954939087,\n",
       "   'support': 4968,\n",
       "   'accuracy': 0.7234299516908212,\n",
       "   'balanced_accuracy': 0.3890690230164491,\n",
       "   'auc': 0.9133423736779474}},\n",
       " 'effnetb3': {'no_meta': {'precision': 0.7169692835680002,\n",
       "   'recall': 0.7254428341384863,\n",
       "   'f1-score': 0.718028149413182,\n",
       "   'support': 4968,\n",
       "   'accuracy': 0.7254428341384863,\n",
       "   'balanced_accuracy': 0.5135343016676,\n",
       "   'auc': 0.9192231237779341},\n",
       "  'concat': {'precision': 0.7248653590684024,\n",
       "   'recall': 0.7288647342995169,\n",
       "   'f1-score': 0.7249805426184831,\n",
       "   'support': 4968,\n",
       "   'accuracy': 0.7288647342995169,\n",
       "   'balanced_accuracy': 0.532932082470299,\n",
       "   'auc': 0.9275538858364807},\n",
       "  'metanet': {'precision': 0.7171371769359,\n",
       "   'recall': 0.7290660225442834,\n",
       "   'f1-score': 0.7190498534771298,\n",
       "   'support': 4968,\n",
       "   'accuracy': 0.7290660225442834,\n",
       "   'balanced_accuracy': 0.5027688164844313,\n",
       "   'auc': 0.9202809794931688},\n",
       "  'metablock': {'precision': 0.6842043190683984,\n",
       "   'recall': 0.7137681159420289,\n",
       "   'f1-score': 0.6872359554564089,\n",
       "   'support': 4968,\n",
       "   'accuracy': 0.7137681159420289,\n",
       "   'balanced_accuracy': 0.3883086679479162,\n",
       "   'auc': 0.9039249922378687}},\n",
       " 'effnetb4': {'no_meta': {'precision': 0.7121328770640999,\n",
       "   'recall': 0.7218196457326892,\n",
       "   'f1-score': 0.7142801087414848,\n",
       "   'support': 4968,\n",
       "   'accuracy': 0.7218196457326892,\n",
       "   'balanced_accuracy': 0.5016327098689044,\n",
       "   'auc': 0.9193336331182076},\n",
       "  'concat': {'precision': 0.7286226891733409,\n",
       "   'recall': 0.7328904991948471,\n",
       "   'f1-score': 0.7289256725789427,\n",
       "   'support': 4968,\n",
       "   'accuracy': 0.7328904991948471,\n",
       "   'balanced_accuracy': 0.5275127972460047,\n",
       "   'auc': 0.9289070883736023},\n",
       "  'metanet': {'precision': 0.7157900764154305,\n",
       "   'recall': 0.7264492753623188,\n",
       "   'f1-score': 0.7191115327946618,\n",
       "   'support': 4968,\n",
       "   'accuracy': 0.7264492753623188,\n",
       "   'balanced_accuracy': 0.504088755324158,\n",
       "   'auc': 0.9215440814792368},\n",
       "  'metablock': {'precision': 0.679450958197523,\n",
       "   'recall': 0.7129629629629629,\n",
       "   'f1-score': 0.6822770663089758,\n",
       "   'support': 4968,\n",
       "   'accuracy': 0.7129629629629629,\n",
       "   'balanced_accuracy': 0.3700355178098501,\n",
       "   'auc': 0.9094623283873466}},\n",
       " 'effnetb5': {'no_meta': {'precision': 0.7031629227323719,\n",
       "   'recall': 0.7047101449275363,\n",
       "   'f1-score': 0.7018310020963061,\n",
       "   'support': 4968,\n",
       "   'accuracy': 0.7047101449275363,\n",
       "   'balanced_accuracy': 0.5091048073459661,\n",
       "   'auc': 0.9143668546042477},\n",
       "  'concat': {'precision': 0.7171614449318041,\n",
       "   'recall': 0.715780998389694,\n",
       "   'f1-score': 0.7157693320519308,\n",
       "   'support': 4968,\n",
       "   'accuracy': 0.715780998389694,\n",
       "   'balanced_accuracy': 0.5236964661164782,\n",
       "   'auc': 0.9247861531856871},\n",
       "  'metanet': {'precision': 0.7111455231533442,\n",
       "   'recall': 0.717391304347826,\n",
       "   'f1-score': 0.7115985113964838,\n",
       "   'support': 4968,\n",
       "   'accuracy': 0.717391304347826,\n",
       "   'balanced_accuracy': 0.5150090038595141,\n",
       "   'auc': 0.9171971121286201},\n",
       "  'metablock': {'precision': 0.6692810676436899,\n",
       "   'recall': 0.696256038647343,\n",
       "   'f1-score': 0.6619633762378908,\n",
       "   'support': 4968,\n",
       "   'accuracy': 0.696256038647343,\n",
       "   'balanced_accuracy': 0.34513827386851303,\n",
       "   'auc': 0.9037260180150347}},\n",
       " 'resnext50': {'no_meta': {'precision': 0.7025245120573578,\n",
       "   'recall': 0.7103462157809984,\n",
       "   'f1-score': 0.7040151229185233,\n",
       "   'support': 4968,\n",
       "   'accuracy': 0.7103462157809984,\n",
       "   'balanced_accuracy': 0.49340060182658374,\n",
       "   'auc': 0.919255399403487},\n",
       "  'concat': {'precision': 0.7222048127028312,\n",
       "   'recall': 0.6988727858293076,\n",
       "   'f1-score': 0.7068697772576849,\n",
       "   'support': 4968,\n",
       "   'accuracy': 0.6988727858293076,\n",
       "   'balanced_accuracy': 0.5298391424449727,\n",
       "   'auc': 0.9249405617237169},\n",
       "  'metanet': {'precision': 0.7049242559072467,\n",
       "   'recall': 0.711755233494364,\n",
       "   'f1-score': 0.7051277517859352,\n",
       "   'support': 4968,\n",
       "   'accuracy': 0.711755233494364,\n",
       "   'balanced_accuracy': 0.48358547756904263,\n",
       "   'auc': 0.9196673962971069},\n",
       "  'metablock': {'precision': 0.6362143873619013,\n",
       "   'recall': 0.6855877616747182,\n",
       "   'f1-score': 0.6526457391252868,\n",
       "   'support': 4968,\n",
       "   'accuracy': 0.6855877616747182,\n",
       "   'balanced_accuracy': 0.33531615280395655,\n",
       "   'auc': 0.8987891354018807}},\n",
       " 'resnext101': {'no_meta': {'precision': 0.7106901067479271,\n",
       "   'recall': 0.7159822866344605,\n",
       "   'f1-score': 0.7108496867843555,\n",
       "   'support': 4968,\n",
       "   'accuracy': 0.7159822866344605,\n",
       "   'balanced_accuracy': 0.5062868285049476,\n",
       "   'auc': 0.9191417150627975},\n",
       "  'concat': {'precision': 0.7227765792066992,\n",
       "   'recall': 0.7270531400966184,\n",
       "   'f1-score': 0.7235287299199957,\n",
       "   'support': 4968,\n",
       "   'accuracy': 0.7270531400966184,\n",
       "   'balanced_accuracy': 0.5248157834302019,\n",
       "   'auc': 0.9257318739037357},\n",
       "  'metanet': {'precision': 0.709744988282886,\n",
       "   'recall': 0.7183977455716586,\n",
       "   'f1-score': 0.71317369206424,\n",
       "   'support': 4968,\n",
       "   'accuracy': 0.7183977455716586,\n",
       "   'balanced_accuracy': 0.49946607603583476,\n",
       "   'auc': 0.9210491299042826},\n",
       "  'metablock': {'precision': 0.5952901003178908,\n",
       "   'recall': 0.642914653784219,\n",
       "   'f1-score': 0.6089607137265477,\n",
       "   'support': 4968,\n",
       "   'accuracy': 0.642914653784219,\n",
       "   'balanced_accuracy': 0.30540959246453675,\n",
       "   'auc': 0.8578320133645515}},\n",
       " 'vgg11': {'no_meta': {'precision': 0.7022361174496252,\n",
       "   'recall': 0.714975845410628,\n",
       "   'f1-score': 0.7061723653152361,\n",
       "   'support': 4968,\n",
       "   'accuracy': 0.714975845410628,\n",
       "   'balanced_accuracy': 0.4830211671880086,\n",
       "   'auc': 0.9156799004568715},\n",
       "  'concat': {'precision': 0.7186466205466063,\n",
       "   'recall': 0.7246376811594203,\n",
       "   'f1-score': 0.719750755186823,\n",
       "   'support': 4968,\n",
       "   'accuracy': 0.7246376811594203,\n",
       "   'balanced_accuracy': 0.5149037168374698,\n",
       "   'auc': 0.9247657493682202},\n",
       "  'metanet': {'precision': 0.7164892545437231,\n",
       "   'recall': 0.7228260869565217,\n",
       "   'f1-score': 0.7174104646378893,\n",
       "   'support': 4968,\n",
       "   'accuracy': 0.7228260869565217,\n",
       "   'balanced_accuracy': 0.5012448639764416,\n",
       "   'auc': 0.92325840380324},\n",
       "  'metablock': {'precision': 0.6632243378953355,\n",
       "   'recall': 0.6837761674718197,\n",
       "   'f1-score': 0.6630677234663629,\n",
       "   'support': 4968,\n",
       "   'accuracy': 0.6837761674718197,\n",
       "   'balanced_accuracy': 0.3637586224086638,\n",
       "   'auc': 0.8952817717142569}},\n",
       " 'vgg13': {'no_meta': {'precision': 0.6972493500764292,\n",
       "   'recall': 0.7083333333333334,\n",
       "   'f1-score': 0.6919693720254257,\n",
       "   'support': 4968,\n",
       "   'accuracy': 0.7083333333333334,\n",
       "   'balanced_accuracy': 0.46651767920442877,\n",
       "   'auc': 0.9176463733031164},\n",
       "  'concat': {'precision': 0.714957932048986,\n",
       "   'recall': 0.717391304347826,\n",
       "   'f1-score': 0.7138596429059298,\n",
       "   'support': 4968,\n",
       "   'accuracy': 0.717391304347826,\n",
       "   'balanced_accuracy': 0.49772842231365444,\n",
       "   'auc': 0.9262542751065364},\n",
       "  'metanet': {'precision': 0.7095205426527454,\n",
       "   'recall': 0.716183574879227,\n",
       "   'f1-score': 0.7102847635884983,\n",
       "   'support': 4968,\n",
       "   'accuracy': 0.716183574879227,\n",
       "   'balanced_accuracy': 0.4838308223816675,\n",
       "   'auc': 0.9232498613219171},\n",
       "  'metablock': {'precision': 0.6599283386165304,\n",
       "   'recall': 0.6803542673107891,\n",
       "   'f1-score': 0.6621632611678702,\n",
       "   'support': 4968,\n",
       "   'accuracy': 0.6803542673107891,\n",
       "   'balanced_accuracy': 0.3604438691866587,\n",
       "   'auc': 0.8990191034252585}},\n",
       " 'vgg16': {'no_meta': {'precision': 0.7112474256772375,\n",
       "   'recall': 0.715780998389694,\n",
       "   'f1-score': 0.7098092125926794,\n",
       "   'support': 4968,\n",
       "   'accuracy': 0.715780998389694,\n",
       "   'balanced_accuracy': 0.4918036398957799,\n",
       "   'auc': 0.9200891846523779},\n",
       "  'concat': {'precision': 0.728520367100843,\n",
       "   'recall': 0.7355072463768116,\n",
       "   'f1-score': 0.7302006266597005,\n",
       "   'support': 4968,\n",
       "   'accuracy': 0.7355072463768116,\n",
       "   'balanced_accuracy': 0.5186459856944524,\n",
       "   'auc': 0.9265965293816969},\n",
       "  'metanet': {'precision': 0.7055979030258491,\n",
       "   'recall': 0.7188003220611916,\n",
       "   'f1-score': 0.7086742625446946,\n",
       "   'support': 4968,\n",
       "   'accuracy': 0.7188003220611916,\n",
       "   'balanced_accuracy': 0.4775250311243624,\n",
       "   'auc': 0.9209693381896944},\n",
       "  'metablock': {'precision': 0.6878611684556326,\n",
       "   'recall': 0.7083333333333334,\n",
       "   'f1-score': 0.6885549422119469,\n",
       "   'support': 4968,\n",
       "   'accuracy': 0.7083333333333334,\n",
       "   'balanced_accuracy': 0.3866022551819636,\n",
       "   'auc': 0.9078077452731662}},\n",
       " 'vit_b_32': {'no_meta': {'precision': 0.6859362804469821,\n",
       "   'recall': 0.7043075684380032,\n",
       "   'f1-score': 0.688796712432286,\n",
       "   'support': 4968,\n",
       "   'accuracy': 0.7043075684380032,\n",
       "   'balanced_accuracy': 0.4777356680813142,\n",
       "   'auc': 0.9092972191982805},\n",
       "  'concat': {'precision': 0.7123148979406884,\n",
       "   'recall': 0.7214170692431562,\n",
       "   'f1-score': 0.7127146471133242,\n",
       "   'support': 4968,\n",
       "   'accuracy': 0.7214170692431562,\n",
       "   'balanced_accuracy': 0.4930615763539383,\n",
       "   'auc': 0.9244923039012981},\n",
       "  'metanet': {'precision': 0.7147399602656669,\n",
       "   'recall': 0.7278582930756844,\n",
       "   'f1-score': 0.7182251165454204,\n",
       "   'support': 4968,\n",
       "   'accuracy': 0.7278582930756844,\n",
       "   'balanced_accuracy': 0.5021453569699525,\n",
       "   'auc': 0.9259525707381112},\n",
       "  'metablock': {'precision': 0.6299342553246553,\n",
       "   'recall': 0.659621578099839,\n",
       "   'f1-score': 0.6325314598178174,\n",
       "   'support': 4968,\n",
       "   'accuracy': 0.659621578099839,\n",
       "   'balanced_accuracy': 0.3211073191267122,\n",
       "   'auc': 0.8903519751670791}}}"
      ]
     },
     "execution_count": 12,
     "metadata": {},
     "output_type": "execute_result"
    }
   ],
   "source": [
    "import json\n",
    "\n",
    "with open('metrics_fusion_final.json', 'w') as outfile:\n",
    "    json.dump(all_metrics_dict, outfile)\n",
    "    \n",
    "all_metrics_dict"
   ]
  },
  {
   "cell_type": "code",
   "execution_count": 13,
   "metadata": {},
   "outputs": [
    {
     "name": "stdout",
     "output_type": "stream",
     "text": [
      "*******************************************************************************\n",
      "RESNET18 METABLOCK\n",
      "*******************************************************************************\n",
      "\n"
     ]
    },
    {
     "name": "stderr",
     "output_type": "stream",
     "text": [
      "/home/gabriel/skin/ISIC2019/../utils/metrics.py:47: UserWarning: An output with one or more elements was resized since it had shape [4968, 6], which does not match the required output shape [4968, 8]. This behavior is deprecated, and in a future PyTorch release outputs will not be resized unless they have zero elements. You can explicitly reuse an out tensor t by resizing it, inplace, to zero elements with t.resize_(0). (Triggered internally at ../aten/src/ATen/native/Resize.cpp:17.)\n",
      "  torch.cat(prob_list, out=y_prob)\n"
     ]
    },
    {
     "name": "stdout",
     "output_type": "stream",
     "text": [
      "*******************************************************************************\n",
      "RESNET50 METABLOCK\n",
      "*******************************************************************************\n",
      "\n"
     ]
    },
    {
     "name": "stderr",
     "output_type": "stream",
     "text": [
      "/home/gabriel/skin/ISIC2019/../utils/metrics.py:47: UserWarning: An output with one or more elements was resized since it had shape [4968, 6], which does not match the required output shape [4968, 8]. This behavior is deprecated, and in a future PyTorch release outputs will not be resized unless they have zero elements. You can explicitly reuse an out tensor t by resizing it, inplace, to zero elements with t.resize_(0). (Triggered internally at ../aten/src/ATen/native/Resize.cpp:17.)\n",
      "  torch.cat(prob_list, out=y_prob)\n"
     ]
    },
    {
     "name": "stdout",
     "output_type": "stream",
     "text": [
      "Loaded pretrained weights for efficientnet-b3\n",
      "*******************************************************************************\n",
      "EFFNETB3 METABLOCK\n",
      "*******************************************************************************\n",
      "\n"
     ]
    },
    {
     "name": "stderr",
     "output_type": "stream",
     "text": [
      "/home/gabriel/skin/ISIC2019/../utils/metrics.py:47: UserWarning: An output with one or more elements was resized since it had shape [4968, 6], which does not match the required output shape [4968, 8]. This behavior is deprecated, and in a future PyTorch release outputs will not be resized unless they have zero elements. You can explicitly reuse an out tensor t by resizing it, inplace, to zero elements with t.resize_(0). (Triggered internally at ../aten/src/ATen/native/Resize.cpp:17.)\n",
      "  torch.cat(prob_list, out=y_prob)\n"
     ]
    },
    {
     "name": "stdout",
     "output_type": "stream",
     "text": [
      "*******************************************************************************\n",
      "RESNEXT50 METABLOCK\n",
      "*******************************************************************************\n",
      "\n"
     ]
    },
    {
     "name": "stderr",
     "output_type": "stream",
     "text": [
      "/home/gabriel/skin/ISIC2019/../utils/metrics.py:47: UserWarning: An output with one or more elements was resized since it had shape [4968, 6], which does not match the required output shape [4968, 8]. This behavior is deprecated, and in a future PyTorch release outputs will not be resized unless they have zero elements. You can explicitly reuse an out tensor t by resizing it, inplace, to zero elements with t.resize_(0). (Triggered internally at ../aten/src/ATen/native/Resize.cpp:17.)\n",
      "  torch.cat(prob_list, out=y_prob)\n"
     ]
    },
    {
     "name": "stdout",
     "output_type": "stream",
     "text": [
      "*******************************************************************************\n",
      "VGG11 METABLOCK\n",
      "*******************************************************************************\n",
      "\n"
     ]
    },
    {
     "name": "stderr",
     "output_type": "stream",
     "text": [
      "/home/gabriel/skin/ISIC2019/../utils/metrics.py:47: UserWarning: An output with one or more elements was resized since it had shape [4968, 6], which does not match the required output shape [4968, 8]. This behavior is deprecated, and in a future PyTorch release outputs will not be resized unless they have zero elements. You can explicitly reuse an out tensor t by resizing it, inplace, to zero elements with t.resize_(0). (Triggered internally at ../aten/src/ATen/native/Resize.cpp:17.)\n",
      "  torch.cat(prob_list, out=y_prob)\n"
     ]
    },
    {
     "name": "stdout",
     "output_type": "stream",
     "text": [
      "*******************************************************************************\n",
      "VIT_B_32 METABLOCK\n",
      "*******************************************************************************\n",
      "\n"
     ]
    },
    {
     "name": "stderr",
     "output_type": "stream",
     "text": [
      "/home/gabriel/skin/ISIC2019/../utils/metrics.py:47: UserWarning: An output with one or more elements was resized since it had shape [4968, 6], which does not match the required output shape [4968, 8]. This behavior is deprecated, and in a future PyTorch release outputs will not be resized unless they have zero elements. You can explicitly reuse an out tensor t by resizing it, inplace, to zero elements with t.resize_(0). (Triggered internally at ../aten/src/ATen/native/Resize.cpp:17.)\n",
      "  torch.cat(prob_list, out=y_prob)\n"
     ]
    }
   ],
   "source": [
    "# Dataloaders\n",
    "test_imgs   = df.loc[test_idcs, 'image'].values\n",
    "test_paths  = [f'{os.path.join(data_dir, img)}.jpg' for img in test_imgs]\n",
    "test_labels = df.loc[test_idcs, 'diagnostic_number'].values\n",
    "\n",
    "test_metadata   = df.loc[test_idcs, metadata_cols].values\n",
    "test_dataloader = get_data_loader(test_paths, test_labels, metadata=test_metadata, transform=val_transform, batch_size=batch_size, num_workers=num_workers) \n",
    "\n",
    "# Training\n",
    "n_classes  = 8\n",
    "n_metadata = test_metadata.shape[1]\n",
    "\n",
    "all_metrics_dict = dict()\n",
    "for model_name in model_names:\n",
    "    model_dict = dict()\n",
    "    base_model = BaseMetaModel(get_model(model_name, n_classes=n_classes, pretrained=True)).to(device)\n",
    "    \n",
    "    for fusion_method in fusion_methods:\n",
    "        print(f'{\"*\"*79}\\n{model_name.upper()} {fusion_method.upper()}\\n{\"*\"*79}\\n')\n",
    "                \n",
    "        if fusion_method == 'no_meta':\n",
    "            save_path = f'best_base_{model_name}_w_{fold}'\n",
    "            model = BaseMetaModel(get_model(model_name, n_classes=n_classes, pretrained=True)).to(device)\n",
    "            model.load_state_dict(torch.load(os.path.join(saved_base_models_folder, save_path)))\n",
    "        else:\n",
    "            save_path = f'best_{model_name}_{fusion_method}_nofreeze_{fold}'\n",
    "            model = MetaModel(base_model, n_classes, n_metadata=n_metadata, fusion_method=fusion_method, n_reducer_block=n_reducer_block).to(device)\n",
    "            model.load_state_dict(torch.load(os.path.join(saved_models_folder, save_path)))\n",
    "\n",
    "        y_true, y_prob, y_pred = get_scores(model, test_dataloader, batch_size, device)\n",
    "        metrics_dict = get_metrics(y_true, y_prob, y_pred)\n",
    "\n",
    "        del model\n",
    "        gc.collect()\n",
    "        torch.cuda.empty_cache()\n",
    "        \n",
    "        model_dict[fusion_method] = metrics_dict\n",
    "    all_metrics_dict[model_name]  = model_dict"
   ]
  },
  {
   "cell_type": "code",
   "execution_count": 14,
   "metadata": {},
   "outputs": [
    {
     "data": {
      "text/plain": [
       "{'resnet18': {'metablock': {'precision': 0.7026498273234055,\n",
       "   'recall': 0.7125603864734299,\n",
       "   'f1-score': 0.7019579347864161,\n",
       "   'support': 4968,\n",
       "   'accuracy': 0.7125603864734299,\n",
       "   'balanced_accuracy': 0.45399892726651914,\n",
       "   'auc': 0.923786123422959}},\n",
       " 'resnet50': {'metablock': {'precision': 0.5999072049493229,\n",
       "   'recall': 0.6427133655394525,\n",
       "   'f1-score': 0.5982766720154751,\n",
       "   'support': 4968,\n",
       "   'accuracy': 0.6427133655394525,\n",
       "   'balanced_accuracy': 0.2844166590047047,\n",
       "   'auc': 0.8614027533269553}},\n",
       " 'effnetb3': {'metablock': {'precision': 0.6738638675725298,\n",
       "   'recall': 0.7030998389694042,\n",
       "   'f1-score': 0.6738071745491266,\n",
       "   'support': 4968,\n",
       "   'accuracy': 0.7030998389694042,\n",
       "   'balanced_accuracy': 0.37274550869951933,\n",
       "   'auc': 0.9027874229401623}},\n",
       " 'resnext50': {'metablock': {'precision': 0.6315928074772235,\n",
       "   'recall': 0.6805555555555556,\n",
       "   'f1-score': 0.649947554331806,\n",
       "   'support': 4968,\n",
       "   'accuracy': 0.6805555555555556,\n",
       "   'balanced_accuracy': 0.33417083195528685,\n",
       "   'auc': 0.8919756583315235}},\n",
       " 'vgg11': {'metablock': {'precision': 0.666847042489389,\n",
       "   'recall': 0.6781400966183575,\n",
       "   'f1-score': 0.6629079472298854,\n",
       "   'support': 4968,\n",
       "   'accuracy': 0.6781400966183575,\n",
       "   'balanced_accuracy': 0.3689471527420413,\n",
       "   'auc': 0.8975107368404954}},\n",
       " 'vit_b_32': {'metablock': {'precision': 0.6121989790469772,\n",
       "   'recall': 0.6622383252818036,\n",
       "   'f1-score': 0.6299264186116739,\n",
       "   'support': 4968,\n",
       "   'accuracy': 0.6622383252818036,\n",
       "   'balanced_accuracy': 0.3104769242911958,\n",
       "   'auc': 0.8815251298590537}}}"
      ]
     },
     "execution_count": 14,
     "metadata": {},
     "output_type": "execute_result"
    }
   ],
   "source": [
    "import json\n",
    "\n",
    "with open('metrics_fusion_nofreeze.json', 'w') as outfile:\n",
    "    json.dump(all_metrics_dict, outfile)\n",
    "    \n",
    "all_metrics_dict"
   ]
  },
  {
   "cell_type": "code",
   "execution_count": 15,
   "metadata": {},
   "outputs": [
    {
     "data": {
      "text/html": [
       "<div>\n",
       "<style scoped>\n",
       "    .dataframe tbody tr th:only-of-type {\n",
       "        vertical-align: middle;\n",
       "    }\n",
       "\n",
       "    .dataframe tbody tr th {\n",
       "        vertical-align: top;\n",
       "    }\n",
       "\n",
       "    .dataframe thead th {\n",
       "        text-align: right;\n",
       "    }\n",
       "</style>\n",
       "<table border=\"1\" class=\"dataframe\">\n",
       "  <thead>\n",
       "    <tr style=\"text-align: right;\">\n",
       "      <th></th>\n",
       "      <th>metablock</th>\n",
       "    </tr>\n",
       "  </thead>\n",
       "  <tbody>\n",
       "    <tr>\n",
       "      <th>accuracy</th>\n",
       "      <td>0.642713</td>\n",
       "    </tr>\n",
       "    <tr>\n",
       "      <th>auc</th>\n",
       "      <td>0.861403</td>\n",
       "    </tr>\n",
       "    <tr>\n",
       "      <th>balanced_accuracy</th>\n",
       "      <td>0.284417</td>\n",
       "    </tr>\n",
       "    <tr>\n",
       "      <th>f1-score</th>\n",
       "      <td>0.598277</td>\n",
       "    </tr>\n",
       "    <tr>\n",
       "      <th>precision</th>\n",
       "      <td>0.599907</td>\n",
       "    </tr>\n",
       "    <tr>\n",
       "      <th>recall</th>\n",
       "      <td>0.642713</td>\n",
       "    </tr>\n",
       "    <tr>\n",
       "      <th>support</th>\n",
       "      <td>4968.000000</td>\n",
       "    </tr>\n",
       "  </tbody>\n",
       "</table>\n",
       "</div>"
      ],
      "text/plain": [
       "                     metablock\n",
       "accuracy              0.642713\n",
       "auc                   0.861403\n",
       "balanced_accuracy     0.284417\n",
       "f1-score              0.598277\n",
       "precision             0.599907\n",
       "recall                0.642713\n",
       "support            4968.000000"
      ]
     },
     "execution_count": 15,
     "metadata": {},
     "output_type": "execute_result"
    }
   ],
   "source": [
    "pd.DataFrame(all_metrics_dict['resnet50'])"
   ]
  }
 ],
 "metadata": {
  "accelerator": "GPU",
  "colab": {
   "provenance": []
  },
  "gpuClass": "standard",
  "kernelspec": {
   "display_name": "Python 3 (ipykernel)",
   "language": "python",
   "name": "python3"
  },
  "language_info": {
   "codemirror_mode": {
    "name": "ipython",
    "version": 3
   },
   "file_extension": ".py",
   "mimetype": "text/x-python",
   "name": "python",
   "nbconvert_exporter": "python",
   "pygments_lexer": "ipython3",
   "version": "3.9.13"
  },
  "widgets": {
   "application/vnd.jupyter.widget-state+json": {
    "055184640ce34877a71c8f514a57365b": {
     "model_module": "@jupyter-widgets/controls",
     "model_module_version": "1.5.0",
     "model_name": "DescriptionStyleModel",
     "state": {
      "_model_module": "@jupyter-widgets/controls",
      "_model_module_version": "1.5.0",
      "_model_name": "DescriptionStyleModel",
      "_view_count": null,
      "_view_module": "@jupyter-widgets/base",
      "_view_module_version": "1.2.0",
      "_view_name": "StyleView",
      "description_width": ""
     }
    },
    "23c4b9c3e8714931aa355dfd0ef250b5": {
     "model_module": "@jupyter-widgets/controls",
     "model_module_version": "1.5.0",
     "model_name": "HTMLModel",
     "state": {
      "_dom_classes": [],
      "_model_module": "@jupyter-widgets/controls",
      "_model_module_version": "1.5.0",
      "_model_name": "HTMLModel",
      "_view_count": null,
      "_view_module": "@jupyter-widgets/controls",
      "_view_module_version": "1.5.0",
      "_view_name": "HTMLView",
      "description": "",
      "description_tooltip": null,
      "layout": "IPY_MODEL_446acd5b23ab4c1aae4b34ffdc0e3e03",
      "placeholder": "​",
      "style": "IPY_MODEL_6ee31b43c638445dbd33ea9e4f9c2818",
      "value": "100%"
     }
    },
    "263fffa53b4e4e1db56db6e6a95b2f9a": {
     "model_module": "@jupyter-widgets/controls",
     "model_module_version": "1.5.0",
     "model_name": "HTMLModel",
     "state": {
      "_dom_classes": [],
      "_model_module": "@jupyter-widgets/controls",
      "_model_module_version": "1.5.0",
      "_model_name": "HTMLModel",
      "_view_count": null,
      "_view_module": "@jupyter-widgets/controls",
      "_view_module_version": "1.5.0",
      "_view_name": "HTMLView",
      "description": "",
      "description_tooltip": null,
      "layout": "IPY_MODEL_f4db7d742a5d4367822911b22b554e22",
      "placeholder": "​",
      "style": "IPY_MODEL_055184640ce34877a71c8f514a57365b",
      "value": " 171M/171M [00:02&lt;00:00, 77.8MB/s]"
     }
    },
    "29a8b74c017b4c3d8d459537b3f4ba28": {
     "model_module": "@jupyter-widgets/controls",
     "model_module_version": "1.5.0",
     "model_name": "DescriptionStyleModel",
     "state": {
      "_model_module": "@jupyter-widgets/controls",
      "_model_module_version": "1.5.0",
      "_model_name": "DescriptionStyleModel",
      "_view_count": null,
      "_view_module": "@jupyter-widgets/base",
      "_view_module_version": "1.2.0",
      "_view_name": "StyleView",
      "description_width": ""
     }
    },
    "2e7ce0981788482794edabcf158c486c": {
     "model_module": "@jupyter-widgets/base",
     "model_module_version": "1.2.0",
     "model_name": "LayoutModel",
     "state": {
      "_model_module": "@jupyter-widgets/base",
      "_model_module_version": "1.2.0",
      "_model_name": "LayoutModel",
      "_view_count": null,
      "_view_module": "@jupyter-widgets/base",
      "_view_module_version": "1.2.0",
      "_view_name": "LayoutView",
      "align_content": null,
      "align_items": null,
      "align_self": null,
      "border": null,
      "bottom": null,
      "display": null,
      "flex": null,
      "flex_flow": null,
      "grid_area": null,
      "grid_auto_columns": null,
      "grid_auto_flow": null,
      "grid_auto_rows": null,
      "grid_column": null,
      "grid_gap": null,
      "grid_row": null,
      "grid_template_areas": null,
      "grid_template_columns": null,
      "grid_template_rows": null,
      "height": null,
      "justify_content": null,
      "justify_items": null,
      "left": null,
      "margin": null,
      "max_height": null,
      "max_width": null,
      "min_height": null,
      "min_width": null,
      "object_fit": null,
      "object_position": null,
      "order": null,
      "overflow": null,
      "overflow_x": null,
      "overflow_y": null,
      "padding": null,
      "right": null,
      "top": null,
      "visibility": null,
      "width": null
     }
    },
    "3a30d4b695114b098ffe71d63ba67e13": {
     "model_module": "@jupyter-widgets/controls",
     "model_module_version": "1.5.0",
     "model_name": "FloatProgressModel",
     "state": {
      "_dom_classes": [],
      "_model_module": "@jupyter-widgets/controls",
      "_model_module_version": "1.5.0",
      "_model_name": "FloatProgressModel",
      "_view_count": null,
      "_view_module": "@jupyter-widgets/controls",
      "_view_module_version": "1.5.0",
      "_view_name": "ProgressView",
      "bar_style": "success",
      "description": "",
      "description_tooltip": null,
      "layout": "IPY_MODEL_4162fdbe4e244d93b2c554f5a826bf03",
      "max": 87319819,
      "min": 0,
      "orientation": "horizontal",
      "style": "IPY_MODEL_ef54030eed4f4c64b73b57cbb245a856",
      "value": 87319819
     }
    },
    "3d4f8a3b3db24d96b5435f2455ca521f": {
     "model_module": "@jupyter-widgets/controls",
     "model_module_version": "1.5.0",
     "model_name": "FloatProgressModel",
     "state": {
      "_dom_classes": [],
      "_model_module": "@jupyter-widgets/controls",
      "_model_module_version": "1.5.0",
      "_model_name": "FloatProgressModel",
      "_view_count": null,
      "_view_module": "@jupyter-widgets/controls",
      "_view_module_version": "1.5.0",
      "_view_name": "ProgressView",
      "bar_style": "success",
      "description": "",
      "description_tooltip": null,
      "layout": "IPY_MODEL_dfe55772269343bc9a18666b40407c1f",
      "max": 241627721,
      "min": 0,
      "orientation": "horizontal",
      "style": "IPY_MODEL_4904a282e52b497fa4ae68be163457f5",
      "value": 241627721
     }
    },
    "3d7903a3643c418d9f08fbd9dba49421": {
     "model_module": "@jupyter-widgets/controls",
     "model_module_version": "1.5.0",
     "model_name": "HTMLModel",
     "state": {
      "_dom_classes": [],
      "_model_module": "@jupyter-widgets/controls",
      "_model_module_version": "1.5.0",
      "_model_name": "HTMLModel",
      "_view_count": null,
      "_view_module": "@jupyter-widgets/controls",
      "_view_module_version": "1.5.0",
      "_view_name": "HTMLView",
      "description": "",
      "description_tooltip": null,
      "layout": "IPY_MODEL_c4285db382984092aa19d846fd433bdb",
      "placeholder": "​",
      "style": "IPY_MODEL_29a8b74c017b4c3d8d459537b3f4ba28",
      "value": " 230M/230M [00:02&lt;00:00, 97.2MB/s]"
     }
    },
    "4162fdbe4e244d93b2c554f5a826bf03": {
     "model_module": "@jupyter-widgets/base",
     "model_module_version": "1.2.0",
     "model_name": "LayoutModel",
     "state": {
      "_model_module": "@jupyter-widgets/base",
      "_model_module_version": "1.2.0",
      "_model_name": "LayoutModel",
      "_view_count": null,
      "_view_module": "@jupyter-widgets/base",
      "_view_module_version": "1.2.0",
      "_view_name": "LayoutView",
      "align_content": null,
      "align_items": null,
      "align_self": null,
      "border": null,
      "bottom": null,
      "display": null,
      "flex": null,
      "flex_flow": null,
      "grid_area": null,
      "grid_auto_columns": null,
      "grid_auto_flow": null,
      "grid_auto_rows": null,
      "grid_column": null,
      "grid_gap": null,
      "grid_row": null,
      "grid_template_areas": null,
      "grid_template_columns": null,
      "grid_template_rows": null,
      "height": null,
      "justify_content": null,
      "justify_items": null,
      "left": null,
      "margin": null,
      "max_height": null,
      "max_width": null,
      "min_height": null,
      "min_width": null,
      "object_fit": null,
      "object_position": null,
      "order": null,
      "overflow": null,
      "overflow_x": null,
      "overflow_y": null,
      "padding": null,
      "right": null,
      "top": null,
      "visibility": null,
      "width": null
     }
    },
    "446acd5b23ab4c1aae4b34ffdc0e3e03": {
     "model_module": "@jupyter-widgets/base",
     "model_module_version": "1.2.0",
     "model_name": "LayoutModel",
     "state": {
      "_model_module": "@jupyter-widgets/base",
      "_model_module_version": "1.2.0",
      "_model_name": "LayoutModel",
      "_view_count": null,
      "_view_module": "@jupyter-widgets/base",
      "_view_module_version": "1.2.0",
      "_view_name": "LayoutView",
      "align_content": null,
      "align_items": null,
      "align_self": null,
      "border": null,
      "bottom": null,
      "display": null,
      "flex": null,
      "flex_flow": null,
      "grid_area": null,
      "grid_auto_columns": null,
      "grid_auto_flow": null,
      "grid_auto_rows": null,
      "grid_column": null,
      "grid_gap": null,
      "grid_row": null,
      "grid_template_areas": null,
      "grid_template_columns": null,
      "grid_template_rows": null,
      "height": null,
      "justify_content": null,
      "justify_items": null,
      "left": null,
      "margin": null,
      "max_height": null,
      "max_width": null,
      "min_height": null,
      "min_width": null,
      "object_fit": null,
      "object_position": null,
      "order": null,
      "overflow": null,
      "overflow_x": null,
      "overflow_y": null,
      "padding": null,
      "right": null,
      "top": null,
      "visibility": null,
      "width": null
     }
    },
    "47e84faa262e49fd850f7a42211d67e0": {
     "model_module": "@jupyter-widgets/controls",
     "model_module_version": "1.5.0",
     "model_name": "DescriptionStyleModel",
     "state": {
      "_model_module": "@jupyter-widgets/controls",
      "_model_module_version": "1.5.0",
      "_model_name": "DescriptionStyleModel",
      "_view_count": null,
      "_view_module": "@jupyter-widgets/base",
      "_view_module_version": "1.2.0",
      "_view_name": "StyleView",
      "description_width": ""
     }
    },
    "4904a282e52b497fa4ae68be163457f5": {
     "model_module": "@jupyter-widgets/controls",
     "model_module_version": "1.5.0",
     "model_name": "ProgressStyleModel",
     "state": {
      "_model_module": "@jupyter-widgets/controls",
      "_model_module_version": "1.5.0",
      "_model_name": "ProgressStyleModel",
      "_view_count": null,
      "_view_module": "@jupyter-widgets/base",
      "_view_module_version": "1.2.0",
      "_view_name": "StyleView",
      "bar_color": null,
      "description_width": ""
     }
    },
    "5fd4701d24d941eabf64fca7c4b7f3e8": {
     "model_module": "@jupyter-widgets/controls",
     "model_module_version": "1.5.0",
     "model_name": "HTMLModel",
     "state": {
      "_dom_classes": [],
      "_model_module": "@jupyter-widgets/controls",
      "_model_module_version": "1.5.0",
      "_model_name": "HTMLModel",
      "_view_count": null,
      "_view_module": "@jupyter-widgets/controls",
      "_view_module_version": "1.5.0",
      "_view_name": "HTMLView",
      "description": "",
      "description_tooltip": null,
      "layout": "IPY_MODEL_2e7ce0981788482794edabcf158c486c",
      "placeholder": "​",
      "style": "IPY_MODEL_47e84faa262e49fd850f7a42211d67e0",
      "value": " 83.3M/83.3M [00:01&lt;00:00, 26.4MB/s]"
     }
    },
    "60341d0da36144b7b912538d3b83d424": {
     "model_module": "@jupyter-widgets/controls",
     "model_module_version": "1.5.0",
     "model_name": "HBoxModel",
     "state": {
      "_dom_classes": [],
      "_model_module": "@jupyter-widgets/controls",
      "_model_module_version": "1.5.0",
      "_model_name": "HBoxModel",
      "_view_count": null,
      "_view_module": "@jupyter-widgets/controls",
      "_view_module_version": "1.5.0",
      "_view_name": "HBoxView",
      "box_style": "",
      "children": [
       "IPY_MODEL_75383e93d2f14949b86aa86a58819dbe",
       "IPY_MODEL_88e1445d3c86459e89065742da786c8e",
       "IPY_MODEL_263fffa53b4e4e1db56db6e6a95b2f9a"
      ],
      "layout": "IPY_MODEL_62ca065bac1141f382476f056b7517d7"
     }
    },
    "6041b410039d453782ea8eef11374dac": {
     "model_module": "@jupyter-widgets/base",
     "model_module_version": "1.2.0",
     "model_name": "LayoutModel",
     "state": {
      "_model_module": "@jupyter-widgets/base",
      "_model_module_version": "1.2.0",
      "_model_name": "LayoutModel",
      "_view_count": null,
      "_view_module": "@jupyter-widgets/base",
      "_view_module_version": "1.2.0",
      "_view_name": "LayoutView",
      "align_content": null,
      "align_items": null,
      "align_self": null,
      "border": null,
      "bottom": null,
      "display": null,
      "flex": null,
      "flex_flow": null,
      "grid_area": null,
      "grid_auto_columns": null,
      "grid_auto_flow": null,
      "grid_auto_rows": null,
      "grid_column": null,
      "grid_gap": null,
      "grid_row": null,
      "grid_template_areas": null,
      "grid_template_columns": null,
      "grid_template_rows": null,
      "height": null,
      "justify_content": null,
      "justify_items": null,
      "left": null,
      "margin": null,
      "max_height": null,
      "max_width": null,
      "min_height": null,
      "min_width": null,
      "object_fit": null,
      "object_position": null,
      "order": null,
      "overflow": null,
      "overflow_x": null,
      "overflow_y": null,
      "padding": null,
      "right": null,
      "top": null,
      "visibility": null,
      "width": null
     }
    },
    "62ca065bac1141f382476f056b7517d7": {
     "model_module": "@jupyter-widgets/base",
     "model_module_version": "1.2.0",
     "model_name": "LayoutModel",
     "state": {
      "_model_module": "@jupyter-widgets/base",
      "_model_module_version": "1.2.0",
      "_model_name": "LayoutModel",
      "_view_count": null,
      "_view_module": "@jupyter-widgets/base",
      "_view_module_version": "1.2.0",
      "_view_name": "LayoutView",
      "align_content": null,
      "align_items": null,
      "align_self": null,
      "border": null,
      "bottom": null,
      "display": null,
      "flex": null,
      "flex_flow": null,
      "grid_area": null,
      "grid_auto_columns": null,
      "grid_auto_flow": null,
      "grid_auto_rows": null,
      "grid_column": null,
      "grid_gap": null,
      "grid_row": null,
      "grid_template_areas": null,
      "grid_template_columns": null,
      "grid_template_rows": null,
      "height": null,
      "justify_content": null,
      "justify_items": null,
      "left": null,
      "margin": null,
      "max_height": null,
      "max_width": null,
      "min_height": null,
      "min_width": null,
      "object_fit": null,
      "object_position": null,
      "order": null,
      "overflow": null,
      "overflow_x": null,
      "overflow_y": null,
      "padding": null,
      "right": null,
      "top": null,
      "visibility": null,
      "width": null
     }
    },
    "6ee31b43c638445dbd33ea9e4f9c2818": {
     "model_module": "@jupyter-widgets/controls",
     "model_module_version": "1.5.0",
     "model_name": "DescriptionStyleModel",
     "state": {
      "_model_module": "@jupyter-widgets/controls",
      "_model_module_version": "1.5.0",
      "_model_name": "DescriptionStyleModel",
      "_view_count": null,
      "_view_module": "@jupyter-widgets/base",
      "_view_module_version": "1.2.0",
      "_view_name": "StyleView",
      "description_width": ""
     }
    },
    "6f9d1f63539c4776b64b3eb15fd990e6": {
     "model_module": "@jupyter-widgets/controls",
     "model_module_version": "1.5.0",
     "model_name": "DescriptionStyleModel",
     "state": {
      "_model_module": "@jupyter-widgets/controls",
      "_model_module_version": "1.5.0",
      "_model_name": "DescriptionStyleModel",
      "_view_count": null,
      "_view_module": "@jupyter-widgets/base",
      "_view_module_version": "1.2.0",
      "_view_name": "StyleView",
      "description_width": ""
     }
    },
    "75383e93d2f14949b86aa86a58819dbe": {
     "model_module": "@jupyter-widgets/controls",
     "model_module_version": "1.5.0",
     "model_name": "HTMLModel",
     "state": {
      "_dom_classes": [],
      "_model_module": "@jupyter-widgets/controls",
      "_model_module_version": "1.5.0",
      "_model_name": "HTMLModel",
      "_view_count": null,
      "_view_module": "@jupyter-widgets/controls",
      "_view_module_version": "1.5.0",
      "_view_name": "HTMLView",
      "description": "",
      "description_tooltip": null,
      "layout": "IPY_MODEL_6041b410039d453782ea8eef11374dac",
      "placeholder": "​",
      "style": "IPY_MODEL_c97cd868c68744ec8267be865bc6a188",
      "value": "100%"
     }
    },
    "88e1445d3c86459e89065742da786c8e": {
     "model_module": "@jupyter-widgets/controls",
     "model_module_version": "1.5.0",
     "model_name": "FloatProgressModel",
     "state": {
      "_dom_classes": [],
      "_model_module": "@jupyter-widgets/controls",
      "_model_module_version": "1.5.0",
      "_model_name": "FloatProgressModel",
      "_view_count": null,
      "_view_module": "@jupyter-widgets/controls",
      "_view_module_version": "1.5.0",
      "_view_name": "ProgressView",
      "bar_style": "success",
      "description": "",
      "description_tooltip": null,
      "layout": "IPY_MODEL_f8ae428e69884b1287b1d26f1afd7b4d",
      "max": 178793939,
      "min": 0,
      "orientation": "horizontal",
      "style": "IPY_MODEL_a2d81c967de949838b25ff86b86a221f",
      "value": 178793939
     }
    },
    "96e19af9fd894a04aa316146b017504a": {
     "model_module": "@jupyter-widgets/controls",
     "model_module_version": "1.5.0",
     "model_name": "HTMLModel",
     "state": {
      "_dom_classes": [],
      "_model_module": "@jupyter-widgets/controls",
      "_model_module_version": "1.5.0",
      "_model_name": "HTMLModel",
      "_view_count": null,
      "_view_module": "@jupyter-widgets/controls",
      "_view_module_version": "1.5.0",
      "_view_name": "HTMLView",
      "description": "",
      "description_tooltip": null,
      "layout": "IPY_MODEL_c60932b2d049458983764dc956aab433",
      "placeholder": "​",
      "style": "IPY_MODEL_6f9d1f63539c4776b64b3eb15fd990e6",
      "value": "100%"
     }
    },
    "9e907133a5c54a22854c6f426a695b45": {
     "model_module": "@jupyter-widgets/controls",
     "model_module_version": "1.5.0",
     "model_name": "HBoxModel",
     "state": {
      "_dom_classes": [],
      "_model_module": "@jupyter-widgets/controls",
      "_model_module_version": "1.5.0",
      "_model_name": "HBoxModel",
      "_view_count": null,
      "_view_module": "@jupyter-widgets/controls",
      "_view_module_version": "1.5.0",
      "_view_name": "HBoxView",
      "box_style": "",
      "children": [
       "IPY_MODEL_96e19af9fd894a04aa316146b017504a",
       "IPY_MODEL_3d4f8a3b3db24d96b5435f2455ca521f",
       "IPY_MODEL_3d7903a3643c418d9f08fbd9dba49421"
      ],
      "layout": "IPY_MODEL_bc3afd22181e4185b6d49d3b8fbc5238"
     }
    },
    "a2d81c967de949838b25ff86b86a221f": {
     "model_module": "@jupyter-widgets/controls",
     "model_module_version": "1.5.0",
     "model_name": "ProgressStyleModel",
     "state": {
      "_model_module": "@jupyter-widgets/controls",
      "_model_module_version": "1.5.0",
      "_model_name": "ProgressStyleModel",
      "_view_count": null,
      "_view_module": "@jupyter-widgets/base",
      "_view_module_version": "1.2.0",
      "_view_name": "StyleView",
      "bar_color": null,
      "description_width": ""
     }
    },
    "a5279ae92567467dac9c5c21fdb226d9": {
     "model_module": "@jupyter-widgets/controls",
     "model_module_version": "1.5.0",
     "model_name": "HBoxModel",
     "state": {
      "_dom_classes": [],
      "_model_module": "@jupyter-widgets/controls",
      "_model_module_version": "1.5.0",
      "_model_name": "HBoxModel",
      "_view_count": null,
      "_view_module": "@jupyter-widgets/controls",
      "_view_module_version": "1.5.0",
      "_view_name": "HBoxView",
      "box_style": "",
      "children": [
       "IPY_MODEL_23c4b9c3e8714931aa355dfd0ef250b5",
       "IPY_MODEL_3a30d4b695114b098ffe71d63ba67e13",
       "IPY_MODEL_5fd4701d24d941eabf64fca7c4b7f3e8"
      ],
      "layout": "IPY_MODEL_cf35b6c2f49045ef8dbb4df29e898a95"
     }
    },
    "bc3afd22181e4185b6d49d3b8fbc5238": {
     "model_module": "@jupyter-widgets/base",
     "model_module_version": "1.2.0",
     "model_name": "LayoutModel",
     "state": {
      "_model_module": "@jupyter-widgets/base",
      "_model_module_version": "1.2.0",
      "_model_name": "LayoutModel",
      "_view_count": null,
      "_view_module": "@jupyter-widgets/base",
      "_view_module_version": "1.2.0",
      "_view_name": "LayoutView",
      "align_content": null,
      "align_items": null,
      "align_self": null,
      "border": null,
      "bottom": null,
      "display": null,
      "flex": null,
      "flex_flow": null,
      "grid_area": null,
      "grid_auto_columns": null,
      "grid_auto_flow": null,
      "grid_auto_rows": null,
      "grid_column": null,
      "grid_gap": null,
      "grid_row": null,
      "grid_template_areas": null,
      "grid_template_columns": null,
      "grid_template_rows": null,
      "height": null,
      "justify_content": null,
      "justify_items": null,
      "left": null,
      "margin": null,
      "max_height": null,
      "max_width": null,
      "min_height": null,
      "min_width": null,
      "object_fit": null,
      "object_position": null,
      "order": null,
      "overflow": null,
      "overflow_x": null,
      "overflow_y": null,
      "padding": null,
      "right": null,
      "top": null,
      "visibility": null,
      "width": null
     }
    },
    "c4285db382984092aa19d846fd433bdb": {
     "model_module": "@jupyter-widgets/base",
     "model_module_version": "1.2.0",
     "model_name": "LayoutModel",
     "state": {
      "_model_module": "@jupyter-widgets/base",
      "_model_module_version": "1.2.0",
      "_model_name": "LayoutModel",
      "_view_count": null,
      "_view_module": "@jupyter-widgets/base",
      "_view_module_version": "1.2.0",
      "_view_name": "LayoutView",
      "align_content": null,
      "align_items": null,
      "align_self": null,
      "border": null,
      "bottom": null,
      "display": null,
      "flex": null,
      "flex_flow": null,
      "grid_area": null,
      "grid_auto_columns": null,
      "grid_auto_flow": null,
      "grid_auto_rows": null,
      "grid_column": null,
      "grid_gap": null,
      "grid_row": null,
      "grid_template_areas": null,
      "grid_template_columns": null,
      "grid_template_rows": null,
      "height": null,
      "justify_content": null,
      "justify_items": null,
      "left": null,
      "margin": null,
      "max_height": null,
      "max_width": null,
      "min_height": null,
      "min_width": null,
      "object_fit": null,
      "object_position": null,
      "order": null,
      "overflow": null,
      "overflow_x": null,
      "overflow_y": null,
      "padding": null,
      "right": null,
      "top": null,
      "visibility": null,
      "width": null
     }
    },
    "c60932b2d049458983764dc956aab433": {
     "model_module": "@jupyter-widgets/base",
     "model_module_version": "1.2.0",
     "model_name": "LayoutModel",
     "state": {
      "_model_module": "@jupyter-widgets/base",
      "_model_module_version": "1.2.0",
      "_model_name": "LayoutModel",
      "_view_count": null,
      "_view_module": "@jupyter-widgets/base",
      "_view_module_version": "1.2.0",
      "_view_name": "LayoutView",
      "align_content": null,
      "align_items": null,
      "align_self": null,
      "border": null,
      "bottom": null,
      "display": null,
      "flex": null,
      "flex_flow": null,
      "grid_area": null,
      "grid_auto_columns": null,
      "grid_auto_flow": null,
      "grid_auto_rows": null,
      "grid_column": null,
      "grid_gap": null,
      "grid_row": null,
      "grid_template_areas": null,
      "grid_template_columns": null,
      "grid_template_rows": null,
      "height": null,
      "justify_content": null,
      "justify_items": null,
      "left": null,
      "margin": null,
      "max_height": null,
      "max_width": null,
      "min_height": null,
      "min_width": null,
      "object_fit": null,
      "object_position": null,
      "order": null,
      "overflow": null,
      "overflow_x": null,
      "overflow_y": null,
      "padding": null,
      "right": null,
      "top": null,
      "visibility": null,
      "width": null
     }
    },
    "c97cd868c68744ec8267be865bc6a188": {
     "model_module": "@jupyter-widgets/controls",
     "model_module_version": "1.5.0",
     "model_name": "DescriptionStyleModel",
     "state": {
      "_model_module": "@jupyter-widgets/controls",
      "_model_module_version": "1.5.0",
      "_model_name": "DescriptionStyleModel",
      "_view_count": null,
      "_view_module": "@jupyter-widgets/base",
      "_view_module_version": "1.2.0",
      "_view_name": "StyleView",
      "description_width": ""
     }
    },
    "cf35b6c2f49045ef8dbb4df29e898a95": {
     "model_module": "@jupyter-widgets/base",
     "model_module_version": "1.2.0",
     "model_name": "LayoutModel",
     "state": {
      "_model_module": "@jupyter-widgets/base",
      "_model_module_version": "1.2.0",
      "_model_name": "LayoutModel",
      "_view_count": null,
      "_view_module": "@jupyter-widgets/base",
      "_view_module_version": "1.2.0",
      "_view_name": "LayoutView",
      "align_content": null,
      "align_items": null,
      "align_self": null,
      "border": null,
      "bottom": null,
      "display": null,
      "flex": null,
      "flex_flow": null,
      "grid_area": null,
      "grid_auto_columns": null,
      "grid_auto_flow": null,
      "grid_auto_rows": null,
      "grid_column": null,
      "grid_gap": null,
      "grid_row": null,
      "grid_template_areas": null,
      "grid_template_columns": null,
      "grid_template_rows": null,
      "height": null,
      "justify_content": null,
      "justify_items": null,
      "left": null,
      "margin": null,
      "max_height": null,
      "max_width": null,
      "min_height": null,
      "min_width": null,
      "object_fit": null,
      "object_position": null,
      "order": null,
      "overflow": null,
      "overflow_x": null,
      "overflow_y": null,
      "padding": null,
      "right": null,
      "top": null,
      "visibility": null,
      "width": null
     }
    },
    "dfe55772269343bc9a18666b40407c1f": {
     "model_module": "@jupyter-widgets/base",
     "model_module_version": "1.2.0",
     "model_name": "LayoutModel",
     "state": {
      "_model_module": "@jupyter-widgets/base",
      "_model_module_version": "1.2.0",
      "_model_name": "LayoutModel",
      "_view_count": null,
      "_view_module": "@jupyter-widgets/base",
      "_view_module_version": "1.2.0",
      "_view_name": "LayoutView",
      "align_content": null,
      "align_items": null,
      "align_self": null,
      "border": null,
      "bottom": null,
      "display": null,
      "flex": null,
      "flex_flow": null,
      "grid_area": null,
      "grid_auto_columns": null,
      "grid_auto_flow": null,
      "grid_auto_rows": null,
      "grid_column": null,
      "grid_gap": null,
      "grid_row": null,
      "grid_template_areas": null,
      "grid_template_columns": null,
      "grid_template_rows": null,
      "height": null,
      "justify_content": null,
      "justify_items": null,
      "left": null,
      "margin": null,
      "max_height": null,
      "max_width": null,
      "min_height": null,
      "min_width": null,
      "object_fit": null,
      "object_position": null,
      "order": null,
      "overflow": null,
      "overflow_x": null,
      "overflow_y": null,
      "padding": null,
      "right": null,
      "top": null,
      "visibility": null,
      "width": null
     }
    },
    "ef54030eed4f4c64b73b57cbb245a856": {
     "model_module": "@jupyter-widgets/controls",
     "model_module_version": "1.5.0",
     "model_name": "ProgressStyleModel",
     "state": {
      "_model_module": "@jupyter-widgets/controls",
      "_model_module_version": "1.5.0",
      "_model_name": "ProgressStyleModel",
      "_view_count": null,
      "_view_module": "@jupyter-widgets/base",
      "_view_module_version": "1.2.0",
      "_view_name": "StyleView",
      "bar_color": null,
      "description_width": ""
     }
    },
    "f4db7d742a5d4367822911b22b554e22": {
     "model_module": "@jupyter-widgets/base",
     "model_module_version": "1.2.0",
     "model_name": "LayoutModel",
     "state": {
      "_model_module": "@jupyter-widgets/base",
      "_model_module_version": "1.2.0",
      "_model_name": "LayoutModel",
      "_view_count": null,
      "_view_module": "@jupyter-widgets/base",
      "_view_module_version": "1.2.0",
      "_view_name": "LayoutView",
      "align_content": null,
      "align_items": null,
      "align_self": null,
      "border": null,
      "bottom": null,
      "display": null,
      "flex": null,
      "flex_flow": null,
      "grid_area": null,
      "grid_auto_columns": null,
      "grid_auto_flow": null,
      "grid_auto_rows": null,
      "grid_column": null,
      "grid_gap": null,
      "grid_row": null,
      "grid_template_areas": null,
      "grid_template_columns": null,
      "grid_template_rows": null,
      "height": null,
      "justify_content": null,
      "justify_items": null,
      "left": null,
      "margin": null,
      "max_height": null,
      "max_width": null,
      "min_height": null,
      "min_width": null,
      "object_fit": null,
      "object_position": null,
      "order": null,
      "overflow": null,
      "overflow_x": null,
      "overflow_y": null,
      "padding": null,
      "right": null,
      "top": null,
      "visibility": null,
      "width": null
     }
    },
    "f8ae428e69884b1287b1d26f1afd7b4d": {
     "model_module": "@jupyter-widgets/base",
     "model_module_version": "1.2.0",
     "model_name": "LayoutModel",
     "state": {
      "_model_module": "@jupyter-widgets/base",
      "_model_module_version": "1.2.0",
      "_model_name": "LayoutModel",
      "_view_count": null,
      "_view_module": "@jupyter-widgets/base",
      "_view_module_version": "1.2.0",
      "_view_name": "LayoutView",
      "align_content": null,
      "align_items": null,
      "align_self": null,
      "border": null,
      "bottom": null,
      "display": null,
      "flex": null,
      "flex_flow": null,
      "grid_area": null,
      "grid_auto_columns": null,
      "grid_auto_flow": null,
      "grid_auto_rows": null,
      "grid_column": null,
      "grid_gap": null,
      "grid_row": null,
      "grid_template_areas": null,
      "grid_template_columns": null,
      "grid_template_rows": null,
      "height": null,
      "justify_content": null,
      "justify_items": null,
      "left": null,
      "margin": null,
      "max_height": null,
      "max_width": null,
      "min_height": null,
      "min_width": null,
      "object_fit": null,
      "object_position": null,
      "order": null,
      "overflow": null,
      "overflow_x": null,
      "overflow_y": null,
      "padding": null,
      "right": null,
      "top": null,
      "visibility": null,
      "width": null
     }
    }
   }
  }
 },
 "nbformat": 4,
 "nbformat_minor": 1
}
